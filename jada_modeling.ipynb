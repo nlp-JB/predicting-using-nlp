{
 "cells": [
  {
   "cell_type": "code",
   "execution_count": 1,
   "metadata": {},
   "outputs": [],
   "source": [
    "import pandas as pd\n",
    "import numpy as np\n",
    "\n",
    "from sklearn.model_selection import train_test_split\n",
    "from sklearn.linear_model import LogisticRegression\n",
    "from sklearn.metrics import classification_report, accuracy_score\n",
    "from sklearn.ensemble import RandomForestClassifier\n",
    "from sklearn.neighbors import KNeighborsClassifier\n",
    "from sklearn.metrics import confusion_matrix\n",
    "\n",
    "import explore\n",
    "import modeling"
   ]
  },
  {
   "cell_type": "code",
   "execution_count": 2,
   "metadata": {},
   "outputs": [],
   "source": [
    "#df = explore.make_initial_df()\n",
    "#df = explore.add_new_columns(df)"
   ]
  },
  {
   "cell_type": "code",
   "execution_count": 4,
   "metadata": {},
   "outputs": [],
   "source": [
    "df = pd.read_csv('prepared_df.csv')"
   ]
  },
  {
   "cell_type": "code",
   "execution_count": 5,
   "metadata": {},
   "outputs": [
    {
     "data": {
      "text/plain": [
       "Python              90\n",
       "JavaScript          65\n",
       "Jupyter Notebook    47\n",
       "C++                 23\n",
       "TypeScript          22\n",
       "Java                13\n",
       "HTML                 6\n",
       "Go                   6\n",
       "Vue                  4\n",
       "TeX                  2\n",
       "Swift                2\n",
       "Ruby                 2\n",
       "Shell                2\n",
       "PHP                  2\n",
       "C#                   2\n",
       "Scala                1\n",
       "CSS                  1\n",
       "Lua                  1\n",
       "CoffeeScript         1\n",
       "R                    1\n",
       "Perl                 1\n",
       "Julia                1\n",
       "Clojure              1\n",
       "C                    1\n",
       "Kotlin               1\n",
       "Name: language, dtype: int64"
      ]
     },
     "execution_count": 5,
     "metadata": {},
     "output_type": "execute_result"
    }
   ],
   "source": [
    "df.language.value_counts()"
   ]
  },
  {
   "cell_type": "code",
   "execution_count": 6,
   "metadata": {},
   "outputs": [],
   "source": [
    "vectorized_df = explore.make_vectorized_df(df)"
   ]
  },
  {
   "cell_type": "code",
   "execution_count": 6,
   "metadata": {},
   "outputs": [],
   "source": [
    "X = vectorized_df\n",
    "y = df.gen_language\n",
    "#Slpit dataframe into train and test\n",
    "X_train, X_test, y_train, y_test = train_test_split(X, y, stratify=y, test_size=.2, random_state = 123)"
   ]
  },
  {
   "cell_type": "code",
   "execution_count": 7,
   "metadata": {},
   "outputs": [],
   "source": [
    "def logistic_regression(train, test):\n",
    "    train = pd.DataFrame(dict(actual=y_train))\n",
    "    test = pd.DataFrame(dict(actual=y_test))\n",
    "\n",
    "    lm = LogisticRegression().fit(X_train, y_train)\n",
    "\n",
    "    train['predicted'] = lm.predict(X_train)\n",
    "    test['predicted'] = lm.predict(X_test)\n",
    "    \n",
    "    print('Accuracy: {:.2%}'.format(accuracy_score(train.actual, train.predicted)))\n",
    "    print('---')\n",
    "    print('Confusion Matrix')\n",
    "    print(pd.crosstab(train.predicted, train.actual))\n",
    "    print('---')\n",
    "    print(classification_report(train.actual, train.predicted))"
   ]
  },
  {
   "cell_type": "code",
   "execution_count": 8,
   "metadata": {},
   "outputs": [],
   "source": [
    "# make train and test precitions dataframe starting with actual values\n",
    "# train_predictions = pd.DataFrame(y_train)\n",
    "# train_predictions.columns = ['actual']\n",
    "# test_predictions = pd.DataFrame(y_test)\n",
    "# test_predictions.columns = ['actual']\n",
    "\n",
    "# add baseline to predictions dataframe\n",
    "# train_predictions['baseline'] = 'Python'\n",
    "# test_predictions['baseline'] = 'Python'\n",
    "# train_predictions"
   ]
  },
  {
   "cell_type": "code",
   "execution_count": 9,
   "metadata": {},
   "outputs": [],
   "source": [
    "# test_predictions"
   ]
  },
  {
   "cell_type": "code",
   "execution_count": 10,
   "metadata": {},
   "outputs": [],
   "source": [
    "# train, test = modeling.logistic_regression(df, vectorized_df)"
   ]
  },
  {
   "cell_type": "code",
   "execution_count": 11,
   "metadata": {},
   "outputs": [],
   "source": [
    "# train"
   ]
  },
  {
   "cell_type": "code",
   "execution_count": 12,
   "metadata": {},
   "outputs": [],
   "source": [
    "rf = RandomForestClassifier(bootstrap=True, \n",
    "                            class_weight=None, \n",
    "                            criterion='gini',\n",
    "                            min_samples_leaf=3,\n",
    "                            n_estimators=100,\n",
    "                            max_depth=3, \n",
    "                            random_state=123)"
   ]
  },
  {
   "cell_type": "code",
   "execution_count": 13,
   "metadata": {},
   "outputs": [
    {
     "data": {
      "text/plain": [
       "RandomForestClassifier(bootstrap=True, class_weight=None, criterion='gini',\n",
       "                       max_depth=3, max_features='auto', max_leaf_nodes=None,\n",
       "                       min_impurity_decrease=0.0, min_impurity_split=None,\n",
       "                       min_samples_leaf=3, min_samples_split=2,\n",
       "                       min_weight_fraction_leaf=0.0, n_estimators=100,\n",
       "                       n_jobs=None, oob_score=False, random_state=123,\n",
       "                       verbose=0, warm_start=False)"
      ]
     },
     "execution_count": 13,
     "metadata": {},
     "output_type": "execute_result"
    }
   ],
   "source": [
    "rf.fit(X_train, y_train)"
   ]
  },
  {
   "cell_type": "code",
   "execution_count": 14,
   "metadata": {},
   "outputs": [],
   "source": [
    "train_random_forest_predictions = rf.predict(X_train)\n",
    "test_random_forest_predictions = rf.predict(X_test)"
   ]
  },
  {
   "cell_type": "code",
   "execution_count": 15,
   "metadata": {},
   "outputs": [],
   "source": [
    "knn = KNeighborsClassifier(n_neighbors=5, weights='uniform')"
   ]
  },
  {
   "cell_type": "code",
   "execution_count": 16,
   "metadata": {},
   "outputs": [
    {
     "data": {
      "text/plain": [
       "KNeighborsClassifier(algorithm='auto', leaf_size=30, metric='minkowski',\n",
       "                     metric_params=None, n_jobs=None, n_neighbors=5, p=2,\n",
       "                     weights='uniform')"
      ]
     },
     "execution_count": 16,
     "metadata": {},
     "output_type": "execute_result"
    }
   ],
   "source": [
    "knn.fit(X_train, y_train)"
   ]
  },
  {
   "cell_type": "code",
   "execution_count": 17,
   "metadata": {},
   "outputs": [],
   "source": [
    "train_knn_predictions = knn.predict(X_train)\n",
    "test_knn_predictions = knn.predict(X_test)"
   ]
  },
  {
   "cell_type": "code",
   "execution_count": 18,
   "metadata": {},
   "outputs": [],
   "source": [
    "#X_train_scaled, X_test_scaled, X_train_reduced, X_test_reduced = explore.prep_vectorized_df(df, vectorized_df)"
   ]
  },
  {
   "cell_type": "code",
   "execution_count": 19,
   "metadata": {},
   "outputs": [
    {
     "ename": "ValueError",
     "evalue": "not enough values to unpack (expected 7, got 6)",
     "output_type": "error",
     "traceback": [
      "\u001b[0;31m---------------------------------------------------------------------------\u001b[0m",
      "\u001b[0;31mValueError\u001b[0m                                Traceback (most recent call last)",
      "\u001b[0;32m<ipython-input-19-39bbffb2208e>\u001b[0m in \u001b[0;36m<module>\u001b[0;34m\u001b[0m\n\u001b[0;32m----> 1\u001b[0;31m \u001b[0mX_train_scaled\u001b[0m\u001b[0;34m,\u001b[0m \u001b[0mX_test_scaled\u001b[0m\u001b[0;34m,\u001b[0m \u001b[0mX_train_reduced\u001b[0m\u001b[0;34m,\u001b[0m \u001b[0mX_test_reduced\u001b[0m \u001b[0;34m=\u001b[0m \u001b[0mmodeling\u001b[0m\u001b[0;34m.\u001b[0m\u001b[0mmake_predictions_df\u001b[0m\u001b[0;34m(\u001b[0m\u001b[0mdf\u001b[0m\u001b[0;34m,\u001b[0m \u001b[0mvectorized_df\u001b[0m\u001b[0;34m)\u001b[0m\u001b[0;34m\u001b[0m\u001b[0;34m\u001b[0m\u001b[0m\n\u001b[0m",
      "\u001b[0;32m~/codeup-data-science/predicting-using-nlp/modeling.py\u001b[0m in \u001b[0;36mmake_predictions_df\u001b[0;34m(df, vectorized_df)\u001b[0m\n\u001b[1;32m     72\u001b[0m \u001b[0;34m\u001b[0m\u001b[0m\n\u001b[1;32m     73\u001b[0m \u001b[0;32mdef\u001b[0m \u001b[0mmake_predictions_df\u001b[0m\u001b[0;34m(\u001b[0m\u001b[0mdf\u001b[0m\u001b[0;34m,\u001b[0m \u001b[0mvectorized_df\u001b[0m\u001b[0;34m)\u001b[0m\u001b[0;34m:\u001b[0m\u001b[0;34m\u001b[0m\u001b[0;34m\u001b[0m\u001b[0m\n\u001b[0;32m---> 74\u001b[0;31m     \u001b[0mmm_scaler\u001b[0m\u001b[0;34m,\u001b[0m \u001b[0mX_train\u001b[0m\u001b[0;34m,\u001b[0m \u001b[0mX_test\u001b[0m\u001b[0;34m,\u001b[0m \u001b[0my_train\u001b[0m\u001b[0;34m,\u001b[0m \u001b[0my_test\u001b[0m\u001b[0;34m,\u001b[0m \u001b[0mtrain_predictions\u001b[0m\u001b[0;34m,\u001b[0m \u001b[0mtest_predictions\u001b[0m \u001b[0;34m=\u001b[0m \u001b[0mexplore\u001b[0m\u001b[0;34m.\u001b[0m\u001b[0mget_splits\u001b[0m\u001b[0;34m(\u001b[0m\u001b[0mdf\u001b[0m\u001b[0;34m,\u001b[0m \u001b[0mvectorized_df\u001b[0m\u001b[0;34m)\u001b[0m\u001b[0;34m\u001b[0m\u001b[0;34m\u001b[0m\u001b[0m\n\u001b[0m\u001b[1;32m     75\u001b[0m \u001b[0;34m\u001b[0m\u001b[0m\n\u001b[1;32m     76\u001b[0m \u001b[0;34m\u001b[0m\u001b[0m\n",
      "\u001b[0;31mValueError\u001b[0m: not enough values to unpack (expected 7, got 6)"
     ]
    }
   ],
   "source": [
    "#X_train_scaled, X_test_scaled, X_train_reduced, X_test_reduced = modeling.make_predictions_df(df, vectorized_df)"
   ]
  },
  {
   "cell_type": "code",
   "execution_count": 2,
   "metadata": {},
   "outputs": [
    {
     "data": {
      "text/html": [
       "<div>\n",
       "<style scoped>\n",
       "    .dataframe tbody tr th:only-of-type {\n",
       "        vertical-align: middle;\n",
       "    }\n",
       "\n",
       "    .dataframe tbody tr th {\n",
       "        vertical-align: top;\n",
       "    }\n",
       "\n",
       "    .dataframe thead th {\n",
       "        text-align: right;\n",
       "    }\n",
       "</style>\n",
       "<table border=\"1\" class=\"dataframe\">\n",
       "  <thead>\n",
       "    <tr style=\"text-align: right;\">\n",
       "      <th></th>\n",
       "      <th>00</th>\n",
       "      <th>000</th>\n",
       "      <th>0000</th>\n",
       "      <th>000000</th>\n",
       "      <th>00008100</th>\n",
       "      <th>0001twosumproblems1twosumenmd</th>\n",
       "      <th>0002</th>\n",
       "      <th>0003</th>\n",
       "      <th>0004732</th>\n",
       "      <th>0004medianoftwosortedarrayproblems4medianoftwosortedarraymd</th>\n",
       "      <th>...</th>\n",
       "      <th>provide+</th>\n",
       "      <th>recommend+</th>\n",
       "      <th>release+</th>\n",
       "      <th>require+</th>\n",
       "      <th>run+</th>\n",
       "      <th>start+</th>\n",
       "      <th>support+</th>\n",
       "      <th>use+</th>\n",
       "      <th>work+</th>\n",
       "      <th>politeness</th>\n",
       "    </tr>\n",
       "  </thead>\n",
       "  <tbody>\n",
       "    <tr>\n",
       "      <th>0</th>\n",
       "      <td>0.0</td>\n",
       "      <td>0.0</td>\n",
       "      <td>0.0</td>\n",
       "      <td>0.0</td>\n",
       "      <td>0.0</td>\n",
       "      <td>0.0</td>\n",
       "      <td>0.0</td>\n",
       "      <td>0.0</td>\n",
       "      <td>0.0</td>\n",
       "      <td>0.0</td>\n",
       "      <td>...</td>\n",
       "      <td>0.0</td>\n",
       "      <td>0.0</td>\n",
       "      <td>0.0</td>\n",
       "      <td>0.0</td>\n",
       "      <td>0.000000</td>\n",
       "      <td>0.00000</td>\n",
       "      <td>0.000000</td>\n",
       "      <td>0.000000</td>\n",
       "      <td>0.0</td>\n",
       "      <td>0.000000</td>\n",
       "    </tr>\n",
       "    <tr>\n",
       "      <th>1</th>\n",
       "      <td>0.0</td>\n",
       "      <td>0.0</td>\n",
       "      <td>0.0</td>\n",
       "      <td>0.0</td>\n",
       "      <td>0.0</td>\n",
       "      <td>0.0</td>\n",
       "      <td>0.0</td>\n",
       "      <td>0.0</td>\n",
       "      <td>0.0</td>\n",
       "      <td>0.0</td>\n",
       "      <td>...</td>\n",
       "      <td>0.0</td>\n",
       "      <td>0.0</td>\n",
       "      <td>0.0</td>\n",
       "      <td>0.0</td>\n",
       "      <td>0.000000</td>\n",
       "      <td>0.00000</td>\n",
       "      <td>0.000000</td>\n",
       "      <td>0.000000</td>\n",
       "      <td>0.0</td>\n",
       "      <td>0.065057</td>\n",
       "    </tr>\n",
       "    <tr>\n",
       "      <th>2</th>\n",
       "      <td>0.0</td>\n",
       "      <td>0.0</td>\n",
       "      <td>0.0</td>\n",
       "      <td>0.0</td>\n",
       "      <td>0.0</td>\n",
       "      <td>0.0</td>\n",
       "      <td>0.0</td>\n",
       "      <td>0.0</td>\n",
       "      <td>0.0</td>\n",
       "      <td>0.0</td>\n",
       "      <td>...</td>\n",
       "      <td>0.0</td>\n",
       "      <td>0.0</td>\n",
       "      <td>0.0</td>\n",
       "      <td>0.0</td>\n",
       "      <td>0.001941</td>\n",
       "      <td>0.00000</td>\n",
       "      <td>0.000000</td>\n",
       "      <td>0.000000</td>\n",
       "      <td>0.0</td>\n",
       "      <td>0.000000</td>\n",
       "    </tr>\n",
       "    <tr>\n",
       "      <th>3</th>\n",
       "      <td>0.0</td>\n",
       "      <td>0.0</td>\n",
       "      <td>0.0</td>\n",
       "      <td>0.0</td>\n",
       "      <td>0.0</td>\n",
       "      <td>0.0</td>\n",
       "      <td>0.0</td>\n",
       "      <td>0.0</td>\n",
       "      <td>0.0</td>\n",
       "      <td>0.0</td>\n",
       "      <td>...</td>\n",
       "      <td>0.0</td>\n",
       "      <td>0.0</td>\n",
       "      <td>0.0</td>\n",
       "      <td>0.0</td>\n",
       "      <td>0.000000</td>\n",
       "      <td>0.00000</td>\n",
       "      <td>0.000000</td>\n",
       "      <td>0.000000</td>\n",
       "      <td>0.0</td>\n",
       "      <td>0.000000</td>\n",
       "    </tr>\n",
       "    <tr>\n",
       "      <th>4</th>\n",
       "      <td>0.0</td>\n",
       "      <td>0.0</td>\n",
       "      <td>0.0</td>\n",
       "      <td>0.0</td>\n",
       "      <td>0.0</td>\n",
       "      <td>0.0</td>\n",
       "      <td>0.0</td>\n",
       "      <td>0.0</td>\n",
       "      <td>0.0</td>\n",
       "      <td>0.0</td>\n",
       "      <td>...</td>\n",
       "      <td>0.0</td>\n",
       "      <td>0.0</td>\n",
       "      <td>0.0</td>\n",
       "      <td>0.0</td>\n",
       "      <td>0.014591</td>\n",
       "      <td>0.03747</td>\n",
       "      <td>0.030429</td>\n",
       "      <td>0.030273</td>\n",
       "      <td>0.0</td>\n",
       "      <td>0.057046</td>\n",
       "    </tr>\n",
       "  </tbody>\n",
       "</table>\n",
       "<p>5 rows × 41809 columns</p>\n",
       "</div>"
      ],
      "text/plain": [
       "    00  000  0000  000000  00008100  0001twosumproblems1twosumenmd  0002  \\\n",
       "0  0.0  0.0   0.0     0.0       0.0                            0.0   0.0   \n",
       "1  0.0  0.0   0.0     0.0       0.0                            0.0   0.0   \n",
       "2  0.0  0.0   0.0     0.0       0.0                            0.0   0.0   \n",
       "3  0.0  0.0   0.0     0.0       0.0                            0.0   0.0   \n",
       "4  0.0  0.0   0.0     0.0       0.0                            0.0   0.0   \n",
       "\n",
       "   0003  0004732  0004medianoftwosortedarrayproblems4medianoftwosortedarraymd  \\\n",
       "0   0.0      0.0                                                0.0             \n",
       "1   0.0      0.0                                                0.0             \n",
       "2   0.0      0.0                                                0.0             \n",
       "3   0.0      0.0                                                0.0             \n",
       "4   0.0      0.0                                                0.0             \n",
       "\n",
       "   ...  provide+  recommend+  release+  require+      run+   start+  support+  \\\n",
       "0  ...       0.0         0.0       0.0       0.0  0.000000  0.00000  0.000000   \n",
       "1  ...       0.0         0.0       0.0       0.0  0.000000  0.00000  0.000000   \n",
       "2  ...       0.0         0.0       0.0       0.0  0.001941  0.00000  0.000000   \n",
       "3  ...       0.0         0.0       0.0       0.0  0.000000  0.00000  0.000000   \n",
       "4  ...       0.0         0.0       0.0       0.0  0.014591  0.03747  0.030429   \n",
       "\n",
       "       use+  work+  politeness  \n",
       "0  0.000000    0.0    0.000000  \n",
       "1  0.000000    0.0    0.065057  \n",
       "2  0.000000    0.0    0.000000  \n",
       "3  0.000000    0.0    0.000000  \n",
       "4  0.030273    0.0    0.057046  \n",
       "\n",
       "[5 rows x 41809 columns]"
      ]
     },
     "execution_count": 2,
     "metadata": {},
     "output_type": "execute_result"
    }
   ],
   "source": [
    "# read csv file for prepared_df\n",
    "df = pd.read_csv('prepared_df.csv')\n",
    "# make vectorized_df\n",
    "vectorized_df = explore.make_vectorized_df(df)\n",
    "# add new columns to vectorized_df\n",
    "vectorized_df = explore.aggregate_columns(vectorized_df)\n",
    "vectorized_df.head()"
   ]
  },
  {
   "cell_type": "code",
   "execution_count": 3,
   "metadata": {},
   "outputs": [
    {
     "data": {
      "text/html": [
       "<div>\n",
       "<style scoped>\n",
       "    .dataframe tbody tr th:only-of-type {\n",
       "        vertical-align: middle;\n",
       "    }\n",
       "\n",
       "    .dataframe tbody tr th {\n",
       "        vertical-align: top;\n",
       "    }\n",
       "\n",
       "    .dataframe thead th {\n",
       "        text-align: right;\n",
       "    }\n",
       "</style>\n",
       "<table border=\"1\" class=\"dataframe\">\n",
       "  <thead>\n",
       "    <tr style=\"text-align: right;\">\n",
       "      <th></th>\n",
       "      <th>actual</th>\n",
       "    </tr>\n",
       "  </thead>\n",
       "  <tbody>\n",
       "    <tr>\n",
       "      <th>279</th>\n",
       "      <td>JavaScript</td>\n",
       "    </tr>\n",
       "    <tr>\n",
       "      <th>156</th>\n",
       "      <td>Jupyter Notebook</td>\n",
       "    </tr>\n",
       "    <tr>\n",
       "      <th>31</th>\n",
       "      <td>Python</td>\n",
       "    </tr>\n",
       "    <tr>\n",
       "      <th>125</th>\n",
       "      <td>JavaScript</td>\n",
       "    </tr>\n",
       "    <tr>\n",
       "      <th>110</th>\n",
       "      <td>other</td>\n",
       "    </tr>\n",
       "  </tbody>\n",
       "</table>\n",
       "</div>"
      ],
      "text/plain": [
       "               actual\n",
       "279        JavaScript\n",
       "156  Jupyter Notebook\n",
       "31             Python\n",
       "125        JavaScript\n",
       "110             other"
      ]
     },
     "execution_count": 3,
     "metadata": {},
     "output_type": "execute_result"
    }
   ],
   "source": [
    "# scale and make test predictions dfs\n",
    "X_train_scaled, X_test_scaled, y_train, y_test, train_predictions, test_predictions = explore.get_splits(df, vectorized_df)\n",
    "# reduce the vectorized dataframe \n",
    "X_train_reduced, X_test_reduced = explore.prep_vectorized_df(X_train_scaled, X_test_scaled)\n",
    "\n",
    "train_predictions.head()"
   ]
  },
  {
   "cell_type": "code",
   "execution_count": 4,
   "metadata": {},
   "outputs": [],
   "source": [
    "# make predictions\n",
    "train_predictions, test_predictions = modeling.make_predictions_df(X_train_reduced, X_test_reduced, y_train, train_predictions, test_predictions)"
   ]
  },
  {
   "cell_type": "code",
   "execution_count": 5,
   "metadata": {},
   "outputs": [
    {
     "data": {
      "text/html": [
       "<div>\n",
       "<style scoped>\n",
       "    .dataframe tbody tr th:only-of-type {\n",
       "        vertical-align: middle;\n",
       "    }\n",
       "\n",
       "    .dataframe tbody tr th {\n",
       "        vertical-align: top;\n",
       "    }\n",
       "\n",
       "    .dataframe thead th {\n",
       "        text-align: right;\n",
       "    }\n",
       "</style>\n",
       "<table border=\"1\" class=\"dataframe\">\n",
       "  <thead>\n",
       "    <tr style=\"text-align: right;\">\n",
       "      <th></th>\n",
       "      <th>actual</th>\n",
       "      <th>baseline</th>\n",
       "      <th>lr_predictions</th>\n",
       "      <th>rf_predictions</th>\n",
       "      <th>knn_predictions</th>\n",
       "    </tr>\n",
       "  </thead>\n",
       "  <tbody>\n",
       "    <tr>\n",
       "      <th>279</th>\n",
       "      <td>JavaScript</td>\n",
       "      <td>Python</td>\n",
       "      <td>JavaScript</td>\n",
       "      <td>JavaScript</td>\n",
       "      <td>Java</td>\n",
       "    </tr>\n",
       "    <tr>\n",
       "      <th>156</th>\n",
       "      <td>Jupyter Notebook</td>\n",
       "      <td>Python</td>\n",
       "      <td>Jupyter Notebook</td>\n",
       "      <td>Jupyter Notebook</td>\n",
       "      <td>Jupyter Notebook</td>\n",
       "    </tr>\n",
       "    <tr>\n",
       "      <th>31</th>\n",
       "      <td>Python</td>\n",
       "      <td>Python</td>\n",
       "      <td>Python</td>\n",
       "      <td>Python</td>\n",
       "      <td>JavaScript</td>\n",
       "    </tr>\n",
       "    <tr>\n",
       "      <th>125</th>\n",
       "      <td>JavaScript</td>\n",
       "      <td>Python</td>\n",
       "      <td>JavaScript</td>\n",
       "      <td>JavaScript</td>\n",
       "      <td>JavaScript</td>\n",
       "    </tr>\n",
       "    <tr>\n",
       "      <th>110</th>\n",
       "      <td>other</td>\n",
       "      <td>Python</td>\n",
       "      <td>other</td>\n",
       "      <td>Python</td>\n",
       "      <td>Java</td>\n",
       "    </tr>\n",
       "  </tbody>\n",
       "</table>\n",
       "</div>"
      ],
      "text/plain": [
       "               actual baseline    lr_predictions    rf_predictions  \\\n",
       "279        JavaScript   Python        JavaScript        JavaScript   \n",
       "156  Jupyter Notebook   Python  Jupyter Notebook  Jupyter Notebook   \n",
       "31             Python   Python            Python            Python   \n",
       "125        JavaScript   Python        JavaScript        JavaScript   \n",
       "110             other   Python             other            Python   \n",
       "\n",
       "      knn_predictions  \n",
       "279              Java  \n",
       "156  Jupyter Notebook  \n",
       "31         JavaScript  \n",
       "125        JavaScript  \n",
       "110              Java  "
      ]
     },
     "execution_count": 5,
     "metadata": {},
     "output_type": "execute_result"
    }
   ],
   "source": [
    "train_predictions.head()"
   ]
  },
  {
   "cell_type": "code",
   "execution_count": 6,
   "metadata": {},
   "outputs": [
    {
     "name": "stdout",
     "output_type": "stream",
     "text": [
      "Evaluation Metrics for Logistic Regression Model\n",
      "\n",
      "\n",
      "Accuracy: 93.27%\n",
      "----------------------------------------------------------------------------------------------\n",
      "Confusion Matrix\n",
      "actual            C++  Java  JavaScript  Jupyter Notebook  Python  TypeScript  \\\n",
      "lr_predictions                                                                  \n",
      "C++                14     0           0                 0       0           0   \n",
      "Java                0     7           0                 0       0           0   \n",
      "JavaScript          2     0          45                 1       1           1   \n",
      "Jupyter Notebook    0     0           0                28       0           0   \n",
      "Python              0     2           0                 3      62           0   \n",
      "TypeScript          0     0           0                 0       0          14   \n",
      "other               0     0           0                 1       0           0   \n",
      "\n",
      "actual            other  \n",
      "lr_predictions           \n",
      "C++                   0  \n",
      "Java                  0  \n",
      "JavaScript            1  \n",
      "Jupyter Notebook      0  \n",
      "Python                2  \n",
      "TypeScript            0  \n",
      "other                24  \n",
      "----------------------------------------------------------------------------------------------\n",
      "                  precision    recall  f1-score   support\n",
      "\n",
      "             C++       1.00      0.88      0.93        16\n",
      "            Java       1.00      0.78      0.88         9\n",
      "      JavaScript       0.88      1.00      0.94        45\n",
      "Jupyter Notebook       1.00      0.85      0.92        33\n",
      "          Python       0.90      0.98      0.94        63\n",
      "      TypeScript       1.00      0.93      0.97        15\n",
      "           other       0.96      0.89      0.92        27\n",
      "\n",
      "        accuracy                           0.93       208\n",
      "       macro avg       0.96      0.90      0.93       208\n",
      "    weighted avg       0.94      0.93      0.93       208\n",
      "\n",
      "\n",
      "\n",
      "\n",
      "\n",
      "\n",
      "Evaluation Metrics for Random Forest Model\n",
      "\n",
      "\n",
      "Accuracy: 62.02%\n",
      "----------------------------------------------------------------------------------------------\n",
      "Confusion Matrix\n",
      "actual            C++  Java  JavaScript  Jupyter Notebook  Python  TypeScript  \\\n",
      "rf_predictions                                                                  \n",
      "JavaScript          2     0          40                 1       0           9   \n",
      "Jupyter Notebook    0     0           0                26       0           0   \n",
      "Python             14     9           5                 6      63           6   \n",
      "\n",
      "actual            other  \n",
      "rf_predictions           \n",
      "JavaScript            7  \n",
      "Jupyter Notebook      0  \n",
      "Python               20  \n",
      "----------------------------------------------------------------------------------------------\n",
      "                  precision    recall  f1-score   support\n",
      "\n",
      "             C++       0.00      0.00      0.00        16\n",
      "            Java       0.00      0.00      0.00         9\n",
      "      JavaScript       0.68      0.89      0.77        45\n",
      "Jupyter Notebook       1.00      0.79      0.88        33\n",
      "          Python       0.51      1.00      0.68        63\n",
      "      TypeScript       0.00      0.00      0.00        15\n",
      "           other       0.00      0.00      0.00        27\n",
      "\n",
      "        accuracy                           0.62       208\n",
      "       macro avg       0.31      0.38      0.33       208\n",
      "    weighted avg       0.46      0.62      0.51       208\n",
      "\n",
      "\n",
      "\n",
      "\n",
      "\n",
      "\n",
      "Evaluation Metrics for K Nearest Nerighbors Model\n",
      "\n",
      "\n",
      "Accuracy: 59.13%\n",
      "----------------------------------------------------------------------------------------------\n",
      "Confusion Matrix\n",
      "actual            C++  Java  JavaScript  Jupyter Notebook  Python  TypeScript  \\\n",
      "knn_predictions                                                                 \n",
      "C++                15     0           2                 1       3           1   \n",
      "Java                0     7           4                 4      11           2   \n",
      "JavaScript          0     2          35                 2      10           6   \n",
      "Jupyter Notebook    0     0           0                25       1           1   \n",
      "Python              1     0           1                 1      36           0   \n",
      "TypeScript          0     0           2                 0       2           4   \n",
      "other               0     0           1                 0       0           1   \n",
      "\n",
      "actual            other  \n",
      "knn_predictions          \n",
      "C++                   3  \n",
      "Java                  5  \n",
      "JavaScript           10  \n",
      "Jupyter Notebook      5  \n",
      "Python                2  \n",
      "TypeScript            1  \n",
      "other                 1  \n",
      "----------------------------------------------------------------------------------------------\n",
      "                  precision    recall  f1-score   support\n",
      "\n",
      "             C++       0.60      0.94      0.73        16\n",
      "            Java       0.21      0.78      0.33         9\n",
      "      JavaScript       0.54      0.78      0.64        45\n",
      "Jupyter Notebook       0.78      0.76      0.77        33\n",
      "          Python       0.88      0.57      0.69        63\n",
      "      TypeScript       0.44      0.27      0.33        15\n",
      "           other       0.33      0.04      0.07        27\n",
      "\n",
      "        accuracy                           0.59       208\n",
      "       macro avg       0.54      0.59      0.51       208\n",
      "    weighted avg       0.64      0.59      0.57       208\n",
      "\n"
     ]
    },
    {
     "name": "stderr",
     "output_type": "stream",
     "text": [
      "/usr/local/anaconda3/lib/python3.7/site-packages/sklearn/metrics/_classification.py:1272: UndefinedMetricWarning: Precision and F-score are ill-defined and being set to 0.0 in labels with no predicted samples. Use `zero_division` parameter to control this behavior.\n",
      "  _warn_prf(average, modifier, msg_start, len(result))\n"
     ]
    }
   ],
   "source": [
    "modeling.train_evaluation(train_predictions)"
   ]
  },
  {
   "cell_type": "code",
   "execution_count": null,
   "metadata": {},
   "outputs": [],
   "source": []
  }
 ],
 "metadata": {
  "kernelspec": {
   "display_name": "Python 3",
   "language": "python",
   "name": "python3"
  },
  "language_info": {
   "codemirror_mode": {
    "name": "ipython",
    "version": 3
   },
   "file_extension": ".py",
   "mimetype": "text/x-python",
   "name": "python",
   "nbconvert_exporter": "python",
   "pygments_lexer": "ipython3",
   "version": "3.7.4"
  }
 },
 "nbformat": 4,
 "nbformat_minor": 4
}
