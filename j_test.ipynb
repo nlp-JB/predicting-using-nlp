{
 "cells": [
  {
   "cell_type": "code",
   "execution_count": 1,
   "metadata": {},
   "outputs": [],
   "source": [
    "import pandas as pd\n",
    "\n",
    "from sklearn.model_selection import train_test_split\n",
    "from sklearn.linear_model import LogisticRegression\n",
    "from sklearn.neighbors import KNeighborsClassifier\n",
    "from sklearn.ensemble import RandomForestClassifier\n",
    "from sklearn.metrics import classification_report, accuracy_score\n",
    "\n",
    "import explore\n",
    "import modeling\n",
    "\n",
    "# ignore warnings\n",
    "import warnings\n",
    "warnings.filterwarnings(\"ignore\")"
   ]
  },
  {
   "cell_type": "code",
   "execution_count": 2,
   "metadata": {},
   "outputs": [],
   "source": [
    "df = explore.make_initial_df('repo_source')\n",
    "df = explore.add_new_columns(df)"
   ]
  },
  {
   "cell_type": "code",
   "execution_count": 3,
   "metadata": {},
   "outputs": [],
   "source": [
    "vectorized_df = explore.make_vectorized_df(df)"
   ]
  },
  {
   "cell_type": "code",
   "execution_count": 4,
   "metadata": {},
   "outputs": [],
   "source": [
    "X_train, X_test, y_train, y_test, train_predictions, test_predictions = modeling.get_splits(df, vectorized_df)"
   ]
  },
  {
   "cell_type": "code",
   "execution_count": 5,
   "metadata": {},
   "outputs": [],
   "source": [
    "train_predictions, test_predictions = modeling.make_predictions_df(df, vectorized_df)"
   ]
  },
  {
   "cell_type": "code",
   "execution_count": 6,
   "metadata": {},
   "outputs": [
    {
     "data": {
      "text/html": [
       "<div>\n",
       "<style scoped>\n",
       "    .dataframe tbody tr th:only-of-type {\n",
       "        vertical-align: middle;\n",
       "    }\n",
       "\n",
       "    .dataframe tbody tr th {\n",
       "        vertical-align: top;\n",
       "    }\n",
       "\n",
       "    .dataframe thead th {\n",
       "        text-align: right;\n",
       "    }\n",
       "</style>\n",
       "<table border=\"1\" class=\"dataframe\">\n",
       "  <thead>\n",
       "    <tr style=\"text-align: right;\">\n",
       "      <th></th>\n",
       "      <th>actual</th>\n",
       "      <th>baseline</th>\n",
       "      <th>lr_predictions</th>\n",
       "      <th>rf_predictions</th>\n",
       "      <th>knn_predictions</th>\n",
       "    </tr>\n",
       "  </thead>\n",
       "  <tbody>\n",
       "    <tr>\n",
       "      <td>17</td>\n",
       "      <td>Jupyter Notebook</td>\n",
       "      <td>Python</td>\n",
       "      <td>Jupyter Notebook</td>\n",
       "      <td>Jupyter Notebook</td>\n",
       "      <td>Jupyter Notebook</td>\n",
       "    </tr>\n",
       "    <tr>\n",
       "      <td>14</td>\n",
       "      <td>Python</td>\n",
       "      <td>Python</td>\n",
       "      <td>Python</td>\n",
       "      <td>other</td>\n",
       "      <td>JavaScript</td>\n",
       "    </tr>\n",
       "    <tr>\n",
       "      <td>19</td>\n",
       "      <td>other</td>\n",
       "      <td>Python</td>\n",
       "      <td>other</td>\n",
       "      <td>other</td>\n",
       "      <td>JavaScript</td>\n",
       "    </tr>\n",
       "    <tr>\n",
       "      <td>4</td>\n",
       "      <td>Python</td>\n",
       "      <td>Python</td>\n",
       "      <td>Python</td>\n",
       "      <td>Python</td>\n",
       "      <td>Python</td>\n",
       "    </tr>\n",
       "    <tr>\n",
       "      <td>21</td>\n",
       "      <td>Jupyter Notebook</td>\n",
       "      <td>Python</td>\n",
       "      <td>Jupyter Notebook</td>\n",
       "      <td>Jupyter Notebook</td>\n",
       "      <td>Jupyter Notebook</td>\n",
       "    </tr>\n",
       "    <tr>\n",
       "      <td>2</td>\n",
       "      <td>Jupyter Notebook</td>\n",
       "      <td>Python</td>\n",
       "      <td>Jupyter Notebook</td>\n",
       "      <td>Jupyter Notebook</td>\n",
       "      <td>Jupyter Notebook</td>\n",
       "    </tr>\n",
       "    <tr>\n",
       "      <td>23</td>\n",
       "      <td>other</td>\n",
       "      <td>Python</td>\n",
       "      <td>other</td>\n",
       "      <td>other</td>\n",
       "      <td>other</td>\n",
       "    </tr>\n",
       "    <tr>\n",
       "      <td>12</td>\n",
       "      <td>Python</td>\n",
       "      <td>Python</td>\n",
       "      <td>Python</td>\n",
       "      <td>Python</td>\n",
       "      <td>Python</td>\n",
       "    </tr>\n",
       "    <tr>\n",
       "      <td>11</td>\n",
       "      <td>Python</td>\n",
       "      <td>Python</td>\n",
       "      <td>other</td>\n",
       "      <td>Python</td>\n",
       "      <td>other</td>\n",
       "    </tr>\n",
       "    <tr>\n",
       "      <td>15</td>\n",
       "      <td>Python</td>\n",
       "      <td>Python</td>\n",
       "      <td>Python</td>\n",
       "      <td>Python</td>\n",
       "      <td>JavaScript</td>\n",
       "    </tr>\n",
       "    <tr>\n",
       "      <td>20</td>\n",
       "      <td>other</td>\n",
       "      <td>Python</td>\n",
       "      <td>other</td>\n",
       "      <td>other</td>\n",
       "      <td>other</td>\n",
       "    </tr>\n",
       "    <tr>\n",
       "      <td>16</td>\n",
       "      <td>other</td>\n",
       "      <td>Python</td>\n",
       "      <td>other</td>\n",
       "      <td>other</td>\n",
       "      <td>Jupyter Notebook</td>\n",
       "    </tr>\n",
       "    <tr>\n",
       "      <td>18</td>\n",
       "      <td>JavaScript</td>\n",
       "      <td>Python</td>\n",
       "      <td>JavaScript</td>\n",
       "      <td>other</td>\n",
       "      <td>JavaScript</td>\n",
       "    </tr>\n",
       "    <tr>\n",
       "      <td>1</td>\n",
       "      <td>JavaScript</td>\n",
       "      <td>Python</td>\n",
       "      <td>other</td>\n",
       "      <td>other</td>\n",
       "      <td>JavaScript</td>\n",
       "    </tr>\n",
       "    <tr>\n",
       "      <td>13</td>\n",
       "      <td>Jupyter Notebook</td>\n",
       "      <td>Python</td>\n",
       "      <td>Jupyter Notebook</td>\n",
       "      <td>Jupyter Notebook</td>\n",
       "      <td>Jupyter Notebook</td>\n",
       "    </tr>\n",
       "    <tr>\n",
       "      <td>9</td>\n",
       "      <td>JavaScript</td>\n",
       "      <td>Python</td>\n",
       "      <td>JavaScript</td>\n",
       "      <td>JavaScript</td>\n",
       "      <td>Python</td>\n",
       "    </tr>\n",
       "    <tr>\n",
       "      <td>22</td>\n",
       "      <td>other</td>\n",
       "      <td>Python</td>\n",
       "      <td>other</td>\n",
       "      <td>other</td>\n",
       "      <td>other</td>\n",
       "    </tr>\n",
       "    <tr>\n",
       "      <td>8</td>\n",
       "      <td>other</td>\n",
       "      <td>Python</td>\n",
       "      <td>other</td>\n",
       "      <td>other</td>\n",
       "      <td>other</td>\n",
       "    </tr>\n",
       "    <tr>\n",
       "      <td>3</td>\n",
       "      <td>JavaScript</td>\n",
       "      <td>Python</td>\n",
       "      <td>JavaScript</td>\n",
       "      <td>JavaScript</td>\n",
       "      <td>JavaScript</td>\n",
       "    </tr>\n",
       "    <tr>\n",
       "      <td>7</td>\n",
       "      <td>JavaScript</td>\n",
       "      <td>Python</td>\n",
       "      <td>JavaScript</td>\n",
       "      <td>JavaScript</td>\n",
       "      <td>JavaScript</td>\n",
       "    </tr>\n",
       "  </tbody>\n",
       "</table>\n",
       "</div>"
      ],
      "text/plain": [
       "              actual baseline    lr_predictions    rf_predictions  \\\n",
       "17  Jupyter Notebook   Python  Jupyter Notebook  Jupyter Notebook   \n",
       "14            Python   Python            Python             other   \n",
       "19             other   Python             other             other   \n",
       "4             Python   Python            Python            Python   \n",
       "21  Jupyter Notebook   Python  Jupyter Notebook  Jupyter Notebook   \n",
       "2   Jupyter Notebook   Python  Jupyter Notebook  Jupyter Notebook   \n",
       "23             other   Python             other             other   \n",
       "12            Python   Python            Python            Python   \n",
       "11            Python   Python             other            Python   \n",
       "15            Python   Python            Python            Python   \n",
       "20             other   Python             other             other   \n",
       "16             other   Python             other             other   \n",
       "18        JavaScript   Python        JavaScript             other   \n",
       "1         JavaScript   Python             other             other   \n",
       "13  Jupyter Notebook   Python  Jupyter Notebook  Jupyter Notebook   \n",
       "9         JavaScript   Python        JavaScript        JavaScript   \n",
       "22             other   Python             other             other   \n",
       "8              other   Python             other             other   \n",
       "3         JavaScript   Python        JavaScript        JavaScript   \n",
       "7         JavaScript   Python        JavaScript        JavaScript   \n",
       "\n",
       "     knn_predictions  \n",
       "17  Jupyter Notebook  \n",
       "14        JavaScript  \n",
       "19        JavaScript  \n",
       "4             Python  \n",
       "21  Jupyter Notebook  \n",
       "2   Jupyter Notebook  \n",
       "23             other  \n",
       "12            Python  \n",
       "11             other  \n",
       "15        JavaScript  \n",
       "20             other  \n",
       "16  Jupyter Notebook  \n",
       "18        JavaScript  \n",
       "1         JavaScript  \n",
       "13  Jupyter Notebook  \n",
       "9             Python  \n",
       "22             other  \n",
       "8              other  \n",
       "3         JavaScript  \n",
       "7         JavaScript  "
      ]
     },
     "execution_count": 6,
     "metadata": {},
     "output_type": "execute_result"
    }
   ],
   "source": [
    "train_predictions"
   ]
  },
  {
   "cell_type": "code",
   "execution_count": 7,
   "metadata": {},
   "outputs": [],
   "source": [
    "# print('Accuracy: {:.2%}'.format(accuracy_score(train_predictions.actual, train_predictions.lr_predictions)))\n",
    "# print('---')\n",
    "# print('Confusion Matrix')\n",
    "# print(pd.crosstab(train_predictions.lr_predictions, train_predictions.actual))\n",
    "# print('---')\n",
    "# print(classification_report(train_predictions.actual, train_predictions.lr_predictions))"
   ]
  },
  {
   "cell_type": "code",
   "execution_count": 8,
   "metadata": {},
   "outputs": [],
   "source": [
    "# print('Accuracy: {:.2%}'.format(accuracy_score(train_predictions.actual, train_predictions.rf_predictions)))\n",
    "# print('---')\n",
    "# print('Confusion Matrix')\n",
    "# print(pd.crosstab(train_predictions.rf_predictions, train_predictions.actual))\n",
    "# print('---')\n",
    "# print(classification_report(train_predictions.actual, train_predictions.rf_predictions))"
   ]
  },
  {
   "cell_type": "code",
   "execution_count": 9,
   "metadata": {},
   "outputs": [],
   "source": [
    "# print('Accuracy: {:.2%}'.format(accuracy_score(train_predictions.actual, train_predictions.knn_predictions)))\n",
    "# print('---')\n",
    "# print('Confusion Matrix')\n",
    "# print(pd.crosstab(train_predictions.knn_predictions, train_predictions.actual))\n",
    "# print('---')\n",
    "# print(classification_report(train_predictions.actual, train_predictions.knn_predictions))"
   ]
  },
  {
   "cell_type": "code",
   "execution_count": 10,
   "metadata": {},
   "outputs": [
    {
     "name": "stdout",
     "output_type": "stream",
     "text": [
      "Evaluation Metrics for Logistic Regression Model\n",
      "\n",
      "\n",
      "Accuracy: 90.00%\n",
      "----------------------------------------------------------------------------------------------\n",
      "Confusion Matrix\n",
      "actual            JavaScript  Jupyter Notebook  Python  other\n",
      "lr_predictions                                               \n",
      "JavaScript                 4                 0       0      0\n",
      "Jupyter Notebook           0                 4       0      0\n",
      "Python                     0                 0       4      0\n",
      "other                      1                 0       1      6\n",
      "----------------------------------------------------------------------------------------------\n",
      "                  precision    recall  f1-score   support\n",
      "\n",
      "      JavaScript       1.00      0.80      0.89         5\n",
      "Jupyter Notebook       1.00      1.00      1.00         4\n",
      "          Python       1.00      0.80      0.89         5\n",
      "           other       0.75      1.00      0.86         6\n",
      "\n",
      "        accuracy                           0.90        20\n",
      "       macro avg       0.94      0.90      0.91        20\n",
      "    weighted avg       0.93      0.90      0.90        20\n",
      "\n",
      "\n",
      "\n",
      "\n",
      "\n",
      "\n",
      "Evaluation Metrics for Random Forest Model\n",
      "\n",
      "\n",
      "Accuracy: 85.00%\n",
      "----------------------------------------------------------------------------------------------\n",
      "Confusion Matrix\n",
      "actual            JavaScript  Jupyter Notebook  Python  other\n",
      "rf_predictions                                               \n",
      "JavaScript                 3                 0       0      0\n",
      "Jupyter Notebook           0                 4       0      0\n",
      "Python                     0                 0       4      0\n",
      "other                      2                 0       1      6\n",
      "----------------------------------------------------------------------------------------------\n",
      "                  precision    recall  f1-score   support\n",
      "\n",
      "      JavaScript       1.00      0.60      0.75         5\n",
      "Jupyter Notebook       1.00      1.00      1.00         4\n",
      "          Python       1.00      0.80      0.89         5\n",
      "           other       0.67      1.00      0.80         6\n",
      "\n",
      "        accuracy                           0.85        20\n",
      "       macro avg       0.92      0.85      0.86        20\n",
      "    weighted avg       0.90      0.85      0.85        20\n",
      "\n",
      "\n",
      "\n",
      "\n",
      "\n",
      "\n",
      "Evaluation Metrics for K Nearest Nerighbors Model\n",
      "\n",
      "\n",
      "Accuracy: 70.00%\n",
      "----------------------------------------------------------------------------------------------\n",
      "Confusion Matrix\n",
      "actual            JavaScript  Jupyter Notebook  Python  other\n",
      "knn_predictions                                              \n",
      "JavaScript                 4                 0       2      1\n",
      "Jupyter Notebook           0                 4       0      1\n",
      "Python                     1                 0       2      0\n",
      "other                      0                 0       1      4\n",
      "----------------------------------------------------------------------------------------------\n",
      "                  precision    recall  f1-score   support\n",
      "\n",
      "      JavaScript       0.57      0.80      0.67         5\n",
      "Jupyter Notebook       0.80      1.00      0.89         4\n",
      "          Python       0.67      0.40      0.50         5\n",
      "           other       0.80      0.67      0.73         6\n",
      "\n",
      "        accuracy                           0.70        20\n",
      "       macro avg       0.71      0.72      0.70        20\n",
      "    weighted avg       0.71      0.70      0.69        20\n",
      "\n"
     ]
    }
   ],
   "source": [
    "report = modeling.train_evaluation(train_predictions)"
   ]
  },
  {
   "cell_type": "markdown",
   "metadata": {},
   "source": [
    "## Hypothesis testing"
   ]
  },
  {
   "cell_type": "markdown",
   "metadata": {},
   "source": [
    "- $H_0$ there is no difference between number of links for javascript repos and the overall average of nuber of links.\n",
    "- $H_a$ there is a difference between number of links for javascript repos and the overall average of nuber of links."
   ]
  },
  {
   "cell_type": "code",
   "execution_count": 31,
   "metadata": {},
   "outputs": [
    {
     "data": {
      "text/plain": [
       "other               8\n",
       "Python              7\n",
       "JavaScript          6\n",
       "Jupyter Notebook    5\n",
       "Name: gen_language, dtype: int64"
      ]
     },
     "execution_count": 31,
     "metadata": {},
     "output_type": "execute_result"
    }
   ],
   "source": [
    "df.gen_language.value_counts()"
   ]
  },
  {
   "cell_type": "code",
   "execution_count": 11,
   "metadata": {},
   "outputs": [],
   "source": [
    "from math import sqrt\n",
    "from scipy import stats"
   ]
  },
  {
   "cell_type": "code",
   "execution_count": 23,
   "metadata": {},
   "outputs": [
    {
     "data": {
      "text/plain": [
       "gen_language\n",
       "JavaScript          150.166667\n",
       "Jupyter Notebook     30.800000\n",
       "Python               40.857143\n",
       "other                61.000000\n",
       "Name: link_counts, dtype: float64"
      ]
     },
     "execution_count": 23,
     "metadata": {},
     "output_type": "execute_result"
    }
   ],
   "source": [
    "df.groupby('gen_language').link_counts.mean()"
   ]
  },
  {
   "cell_type": "code",
   "execution_count": 24,
   "metadata": {},
   "outputs": [
    {
     "data": {
      "text/html": [
       "<div>\n",
       "<style scoped>\n",
       "    .dataframe tbody tr th:only-of-type {\n",
       "        vertical-align: middle;\n",
       "    }\n",
       "\n",
       "    .dataframe tbody tr th {\n",
       "        vertical-align: top;\n",
       "    }\n",
       "\n",
       "    .dataframe thead th {\n",
       "        text-align: right;\n",
       "    }\n",
       "</style>\n",
       "<table border=\"1\" class=\"dataframe\">\n",
       "  <thead>\n",
       "    <tr style=\"text-align: right;\">\n",
       "      <th></th>\n",
       "      <th>index</th>\n",
       "      <th>repo</th>\n",
       "      <th>language</th>\n",
       "      <th>readme_contents</th>\n",
       "      <th>basic_clean</th>\n",
       "      <th>clean_tokes</th>\n",
       "      <th>lemmatized</th>\n",
       "      <th>clean_lemmatized</th>\n",
       "      <th>gen_language</th>\n",
       "      <th>without_numbers</th>\n",
       "      <th>num_words</th>\n",
       "      <th>num_unique_words</th>\n",
       "      <th>link_counts</th>\n",
       "      <th>py_extensions</th>\n",
       "      <th>js_extensions</th>\n",
       "      <th>ipynb_extensions</th>\n",
       "    </tr>\n",
       "  </thead>\n",
       "  <tbody>\n",
       "    <tr>\n",
       "      <td>1</td>\n",
       "      <td>3</td>\n",
       "      <td>covid19india/covid19india-react</td>\n",
       "      <td>JavaScript</td>\n",
       "      <td>&lt;p align=\"center\"&gt;\\n&lt;img src=\"https://lh3.goog...</td>\n",
       "      <td>\\n\\n\\n\\n\\n  heres our data api\\n \\n\\n setup\\n\\...</td>\n",
       "      <td>[heres, our, data, api, setup, npm, i, npm, st...</td>\n",
       "      <td>here our data api setup npm i npm start mainta...</td>\n",
       "      <td>data api setup npm npm start maintainer jeremy...</td>\n",
       "      <td>JavaScript</td>\n",
       "      <td>data api setup npm npm start maintainer jeremy...</td>\n",
       "      <td>50</td>\n",
       "      <td>47</td>\n",
       "      <td>7</td>\n",
       "      <td>0</td>\n",
       "      <td>0</td>\n",
       "      <td>0</td>\n",
       "    </tr>\n",
       "    <tr>\n",
       "      <td>3</td>\n",
       "      <td>7</td>\n",
       "      <td>ahmadawais/corona-cli</td>\n",
       "      <td>JavaScript</td>\n",
       "      <td>&lt;h4 align=\"center\"&gt;\\n    &lt;a href=\"https://gith...</td>\n",
       "      <td>\\n    \\n        \\n    \\n    \\n    \\n\\ntrack th...</td>\n",
       "      <td>[track, the, coronavirus, disease, covid19, or...</td>\n",
       "      <td>track the coronavirus disease covid19 or the n...</td>\n",
       "      <td>track coronavirus disease covid19 novel corona...</td>\n",
       "      <td>JavaScript</td>\n",
       "      <td>track coronavirus disease covid19 novel corona...</td>\n",
       "      <td>823</td>\n",
       "      <td>413</td>\n",
       "      <td>70</td>\n",
       "      <td>0</td>\n",
       "      <td>2</td>\n",
       "      <td>0</td>\n",
       "    </tr>\n",
       "    <tr>\n",
       "      <td>7</td>\n",
       "      <td>11</td>\n",
       "      <td>soroushchehresa/awesome-coronavirus</td>\n",
       "      <td>JavaScript</td>\n",
       "      <td>&lt;div align=\"center\"&gt;\\n\\t&lt;br&gt;\\n\\t&lt;img src=\"http...</td>\n",
       "      <td>\\n\\t\\n\\t\\n\\t\\n\\t\\n\\t\\n\\t\\n\\t\\n\\tsponsors\\n\\t\\n...</td>\n",
       "      <td>[&amp;#9;, &amp;#9;, &amp;#9;, &amp;#9;, &amp;#9;, &amp;#9;, &amp;#9;, &amp;#9...</td>\n",
       "      <td>sponsor     awesome coronavirus awesom...</td>\n",
       "      <td>sponsor awesome coronavirus awesomehttpsawesom...</td>\n",
       "      <td>JavaScript</td>\n",
       "      <td>sponsor awesome coronavirus awesomehttpsawesom...</td>\n",
       "      <td>4290</td>\n",
       "      <td>1836</td>\n",
       "      <td>581</td>\n",
       "      <td>2</td>\n",
       "      <td>5</td>\n",
       "      <td>1</td>\n",
       "    </tr>\n",
       "    <tr>\n",
       "      <td>9</td>\n",
       "      <td>13</td>\n",
       "      <td>pomber/covid19</td>\n",
       "      <td>JavaScript</td>\n",
       "      <td>Transforms the data from [CSSEGISandData/COVID...</td>\n",
       "      <td>transforms the data from cssegisanddatacovid19...</td>\n",
       "      <td>[transforms, the, data, from, cssegisanddataco...</td>\n",
       "      <td>transforms the data from cssegisanddatacovid19...</td>\n",
       "      <td>transforms data cssegisanddatacovid19httpsgith...</td>\n",
       "      <td>JavaScript</td>\n",
       "      <td>transforms data cssegisanddatacovid19httpsgith...</td>\n",
       "      <td>1541</td>\n",
       "      <td>717</td>\n",
       "      <td>235</td>\n",
       "      <td>0</td>\n",
       "      <td>15</td>\n",
       "      <td>0</td>\n",
       "    </tr>\n",
       "    <tr>\n",
       "      <td>18</td>\n",
       "      <td>22</td>\n",
       "      <td>javieraviles/covidAPI</td>\n",
       "      <td>JavaScript</td>\n",
       "      <td># COVID API\\nAPI for live information about CO...</td>\n",
       "      <td>covid api\\napi for live information about cov...</td>\n",
       "      <td>[covid, api, api, for, live, information, abou...</td>\n",
       "      <td>covid api api for live information about covid...</td>\n",
       "      <td>covid api api live information covid19 get htt...</td>\n",
       "      <td>JavaScript</td>\n",
       "      <td>covid api api live information covid19 get htt...</td>\n",
       "      <td>40</td>\n",
       "      <td>31</td>\n",
       "      <td>7</td>\n",
       "      <td>0</td>\n",
       "      <td>0</td>\n",
       "      <td>0</td>\n",
       "    </tr>\n",
       "  </tbody>\n",
       "</table>\n",
       "</div>"
      ],
      "text/plain": [
       "    index                                 repo    language  \\\n",
       "1       3      covid19india/covid19india-react  JavaScript   \n",
       "3       7                ahmadawais/corona-cli  JavaScript   \n",
       "7      11  soroushchehresa/awesome-coronavirus  JavaScript   \n",
       "9      13                       pomber/covid19  JavaScript   \n",
       "18     22                javieraviles/covidAPI  JavaScript   \n",
       "\n",
       "                                      readme_contents  \\\n",
       "1   <p align=\"center\">\\n<img src=\"https://lh3.goog...   \n",
       "3   <h4 align=\"center\">\\n    <a href=\"https://gith...   \n",
       "7   <div align=\"center\">\\n\\t<br>\\n\\t<img src=\"http...   \n",
       "9   Transforms the data from [CSSEGISandData/COVID...   \n",
       "18  # COVID API\\nAPI for live information about CO...   \n",
       "\n",
       "                                          basic_clean  \\\n",
       "1   \\n\\n\\n\\n\\n  heres our data api\\n \\n\\n setup\\n\\...   \n",
       "3   \\n    \\n        \\n    \\n    \\n    \\n\\ntrack th...   \n",
       "7   \\n\\t\\n\\t\\n\\t\\n\\t\\n\\t\\n\\t\\n\\t\\n\\tsponsors\\n\\t\\n...   \n",
       "9   transforms the data from cssegisanddatacovid19...   \n",
       "18   covid api\\napi for live information about cov...   \n",
       "\n",
       "                                          clean_tokes  \\\n",
       "1   [heres, our, data, api, setup, npm, i, npm, st...   \n",
       "3   [track, the, coronavirus, disease, covid19, or...   \n",
       "7   [&#9;, &#9;, &#9;, &#9;, &#9;, &#9;, &#9;, &#9...   \n",
       "9   [transforms, the, data, from, cssegisanddataco...   \n",
       "18  [covid, api, api, for, live, information, abou...   \n",
       "\n",
       "                                           lemmatized  \\\n",
       "1   here our data api setup npm i npm start mainta...   \n",
       "3   track the coronavirus disease covid19 or the n...   \n",
       "7           sponsor     awesome coronavirus awesom...   \n",
       "9   transforms the data from cssegisanddatacovid19...   \n",
       "18  covid api api for live information about covid...   \n",
       "\n",
       "                                     clean_lemmatized gen_language  \\\n",
       "1   data api setup npm npm start maintainer jeremy...   JavaScript   \n",
       "3   track coronavirus disease covid19 novel corona...   JavaScript   \n",
       "7   sponsor awesome coronavirus awesomehttpsawesom...   JavaScript   \n",
       "9   transforms data cssegisanddatacovid19httpsgith...   JavaScript   \n",
       "18  covid api api live information covid19 get htt...   JavaScript   \n",
       "\n",
       "                                      without_numbers  num_words  \\\n",
       "1   data api setup npm npm start maintainer jeremy...         50   \n",
       "3   track coronavirus disease covid19 novel corona...        823   \n",
       "7   sponsor awesome coronavirus awesomehttpsawesom...       4290   \n",
       "9   transforms data cssegisanddatacovid19httpsgith...       1541   \n",
       "18  covid api api live information covid19 get htt...         40   \n",
       "\n",
       "    num_unique_words  link_counts  py_extensions  js_extensions  \\\n",
       "1                 47            7              0              0   \n",
       "3                413           70              0              2   \n",
       "7               1836          581              2              5   \n",
       "9                717          235              0             15   \n",
       "18                31            7              0              0   \n",
       "\n",
       "    ipynb_extensions  \n",
       "1                  0  \n",
       "3                  0  \n",
       "7                  1  \n",
       "9                  0  \n",
       "18                 0  "
      ]
     },
     "execution_count": 24,
     "metadata": {},
     "output_type": "execute_result"
    }
   ],
   "source": [
    "javascript = df[df.gen_language == 'JavaScript']\n",
    "javascript.head()"
   ]
  },
  {
   "cell_type": "code",
   "execution_count": 25,
   "metadata": {},
   "outputs": [
    {
     "data": {
      "text/plain": [
       "150.16666666666666"
      ]
     },
     "execution_count": 25,
     "metadata": {},
     "output_type": "execute_result"
    }
   ],
   "source": [
    "javascript.link_counts.mean()"
   ]
  },
  {
   "cell_type": "code",
   "execution_count": 21,
   "metadata": {
    "scrolled": true
   },
   "outputs": [
    {
     "data": {
      "text/plain": [
       "70.34615384615384"
      ]
     },
     "execution_count": 21,
     "metadata": {},
     "output_type": "execute_result"
    }
   ],
   "source": [
    "df.link_counts.mean()"
   ]
  },
  {
   "cell_type": "code",
   "execution_count": 28,
   "metadata": {},
   "outputs": [
    {
     "name": "stdout",
     "output_type": "stream",
     "text": [
      "t = 0.853\n",
      "p = 0.432\n"
     ]
    }
   ],
   "source": [
    "t, p = stats.ttest_1samp(javascript.link_counts, df.link_counts.mean())\n",
    "\n",
    "print(f't = {t:.3f}')\n",
    "print(f'p = {p:.3f}')\n"
   ]
  },
  {
   "cell_type": "markdown",
   "metadata": {},
   "source": [
    "- $H_0$ there is no difference between number of words for python repos and the overall average of nuber of words for all repos.\n",
    "- $H_a$ there is a difference between number of words for python repos and the overall average of nuber of words for all repos."
   ]
  },
  {
   "cell_type": "code",
   "execution_count": 30,
   "metadata": {},
   "outputs": [
    {
     "data": {
      "text/plain": [
       "gen_language\n",
       "JavaScript          1127.833333\n",
       "Jupyter Notebook     442.800000\n",
       "Python               915.000000\n",
       "other                341.000000\n",
       "Name: num_words, dtype: float64"
      ]
     },
     "execution_count": 30,
     "metadata": {},
     "output_type": "execute_result"
    }
   ],
   "source": [
    "df.groupby('gen_language').num_words.mean()"
   ]
  },
  {
   "cell_type": "code",
   "execution_count": null,
   "metadata": {},
   "outputs": [],
   "source": [
    "python = df[df.gen_language == 'Python']\n",
    "python.head()"
   ]
  },
  {
   "cell_type": "code",
   "execution_count": 32,
   "metadata": {},
   "outputs": [
    {
     "name": "stdout",
     "output_type": "stream",
     "text": [
      "t = 0.619\n",
      "p = 0.559\n"
     ]
    }
   ],
   "source": [
    "t, p = stats.ttest_1samp(python.num_words, df.num_words.mean())\n",
    "\n",
    "print(f't = {t:.3f}')\n",
    "print(f'p = {p:.3f}')"
   ]
  },
  {
   "cell_type": "code",
   "execution_count": null,
   "metadata": {},
   "outputs": [],
   "source": []
  }
 ],
 "metadata": {
  "kernelspec": {
   "display_name": "Python 3",
   "language": "python",
   "name": "python3"
  },
  "language_info": {
   "codemirror_mode": {
    "name": "ipython",
    "version": 3
   },
   "file_extension": ".py",
   "mimetype": "text/x-python",
   "name": "python",
   "nbconvert_exporter": "python",
   "pygments_lexer": "ipython3",
   "version": "3.7.4"
  }
 },
 "nbformat": 4,
 "nbformat_minor": 2
}
