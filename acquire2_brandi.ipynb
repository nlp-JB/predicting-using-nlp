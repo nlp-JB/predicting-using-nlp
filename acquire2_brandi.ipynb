{
 "cells": [
  {
   "cell_type": "code",
   "execution_count": 1,
   "metadata": {},
   "outputs": [],
   "source": [
    "import pandas as pd\n",
    "\n",
    "import j_acquire"
   ]
  },
  {
   "cell_type": "code",
   "execution_count": 2,
   "metadata": {},
   "outputs": [],
   "source": [
    "data_vis_df = j_acquire.scrape_github_data('data-visualization')"
   ]
  },
  {
   "cell_type": "code",
   "execution_count": 3,
   "metadata": {},
   "outputs": [
    {
     "data": {
      "text/html": [
       "<div>\n",
       "<style scoped>\n",
       "    .dataframe tbody tr th:only-of-type {\n",
       "        vertical-align: middle;\n",
       "    }\n",
       "\n",
       "    .dataframe tbody tr th {\n",
       "        vertical-align: top;\n",
       "    }\n",
       "\n",
       "    .dataframe thead th {\n",
       "        text-align: right;\n",
       "    }\n",
       "</style>\n",
       "<table border=\"1\" class=\"dataframe\">\n",
       "  <thead>\n",
       "    <tr style=\"text-align: right;\">\n",
       "      <th></th>\n",
       "      <th>repo</th>\n",
       "      <th>language</th>\n",
       "      <th>readme_contents</th>\n",
       "    </tr>\n",
       "  </thead>\n",
       "  <tbody>\n",
       "    <tr>\n",
       "      <th>0</th>\n",
       "      <td>grafana/grafana</td>\n",
       "      <td>TypeScript</td>\n",
       "      <td>![Grafana](docs/logo-horizontal.png)\\n\\nThe op...</td>\n",
       "    </tr>\n",
       "    <tr>\n",
       "      <th>1</th>\n",
       "      <td>metabase/metabase</td>\n",
       "      <td>Clojure</td>\n",
       "      <td># Metabase\\n\\nMetabase is the easy, open sourc...</td>\n",
       "    </tr>\n",
       "    <tr>\n",
       "      <th>2</th>\n",
       "      <td>academic/awesome-datascience</td>\n",
       "      <td>None</td>\n",
       "      <td># Awesome Data Science [![Awesome](https://cdn...</td>\n",
       "    </tr>\n",
       "    <tr>\n",
       "      <th>3</th>\n",
       "      <td>plotly/dash</td>\n",
       "      <td>Python</td>\n",
       "      <td># Dash\\n\\n[![CircleCI](https://img.shields.io/...</td>\n",
       "    </tr>\n",
       "    <tr>\n",
       "      <th>4</th>\n",
       "      <td>plotly/plotly.js</td>\n",
       "      <td>JavaScript</td>\n",
       "      <td>&lt;a href=\"https://plotly.com/javascript/\"&gt;&lt;img ...</td>\n",
       "    </tr>\n",
       "  </tbody>\n",
       "</table>\n",
       "</div>"
      ],
      "text/plain": [
       "                           repo    language  \\\n",
       "0               grafana/grafana  TypeScript   \n",
       "1             metabase/metabase     Clojure   \n",
       "2  academic/awesome-datascience        None   \n",
       "3                   plotly/dash      Python   \n",
       "4              plotly/plotly.js  JavaScript   \n",
       "\n",
       "                                     readme_contents  \n",
       "0  ![Grafana](docs/logo-horizontal.png)\\n\\nThe op...  \n",
       "1  # Metabase\\n\\nMetabase is the easy, open sourc...  \n",
       "2  # Awesome Data Science [![Awesome](https://cdn...  \n",
       "3  # Dash\\n\\n[![CircleCI](https://img.shields.io/...  \n",
       "4  <a href=\"https://plotly.com/javascript/\"><img ...  "
      ]
     },
     "execution_count": 3,
     "metadata": {},
     "output_type": "execute_result"
    }
   ],
   "source": [
    "data_vis_df = pd.DataFrame.from_dict(data_vis_df)\n",
    "data_vis_df.head()"
   ]
  },
  {
   "cell_type": "code",
   "execution_count": 4,
   "metadata": {},
   "outputs": [
    {
     "data": {
      "text/plain": [
       "(30, 3)"
      ]
     },
     "execution_count": 4,
     "metadata": {},
     "output_type": "execute_result"
    }
   ],
   "source": [
    "data_vis_df.shape"
   ]
  },
  {
   "cell_type": "code",
   "execution_count": 5,
   "metadata": {},
   "outputs": [
    {
     "data": {
      "text/html": [
       "<div>\n",
       "<style scoped>\n",
       "    .dataframe tbody tr th:only-of-type {\n",
       "        vertical-align: middle;\n",
       "    }\n",
       "\n",
       "    .dataframe tbody tr th {\n",
       "        vertical-align: top;\n",
       "    }\n",
       "\n",
       "    .dataframe thead th {\n",
       "        text-align: right;\n",
       "    }\n",
       "</style>\n",
       "<table border=\"1\" class=\"dataframe\">\n",
       "  <thead>\n",
       "    <tr style=\"text-align: right;\">\n",
       "      <th></th>\n",
       "      <th>repo</th>\n",
       "      <th>language</th>\n",
       "      <th>readme_contents</th>\n",
       "    </tr>\n",
       "  </thead>\n",
       "  <tbody>\n",
       "    <tr>\n",
       "      <th>0</th>\n",
       "      <td>tensorflow/tensorflow</td>\n",
       "      <td>C++</td>\n",
       "      <td>&lt;div align=\"center\"&gt;\\n  &lt;img src=\"https://www....</td>\n",
       "    </tr>\n",
       "    <tr>\n",
       "      <th>1</th>\n",
       "      <td>keras-team/keras</td>\n",
       "      <td>Python</td>\n",
       "      <td>﻿# Keras: Deep Learning for humans\\n\\n![Keras ...</td>\n",
       "    </tr>\n",
       "    <tr>\n",
       "      <th>2</th>\n",
       "      <td>opencv/opencv</td>\n",
       "      <td>C++</td>\n",
       "      <td>## OpenCV: Open Source Computer Vision Library...</td>\n",
       "    </tr>\n",
       "    <tr>\n",
       "      <th>3</th>\n",
       "      <td>pytorch/pytorch</td>\n",
       "      <td>C++</td>\n",
       "      <td>![PyTorch Logo](https://github.com/pytorch/pyt...</td>\n",
       "    </tr>\n",
       "    <tr>\n",
       "      <th>4</th>\n",
       "      <td>aymericdamien/TensorFlow-Examples</td>\n",
       "      <td>Jupyter Notebook</td>\n",
       "      <td># TensorFlow Examples\\n\\nThis tutorial was des...</td>\n",
       "    </tr>\n",
       "  </tbody>\n",
       "</table>\n",
       "</div>"
      ],
      "text/plain": [
       "                                repo          language  \\\n",
       "0              tensorflow/tensorflow               C++   \n",
       "1                   keras-team/keras            Python   \n",
       "2                      opencv/opencv               C++   \n",
       "3                    pytorch/pytorch               C++   \n",
       "4  aymericdamien/TensorFlow-Examples  Jupyter Notebook   \n",
       "\n",
       "                                     readme_contents  \n",
       "0  <div align=\"center\">\\n  <img src=\"https://www....  \n",
       "1  ﻿# Keras: Deep Learning for humans\\n\\n![Keras ...  \n",
       "2  ## OpenCV: Open Source Computer Vision Library...  \n",
       "3  ![PyTorch Logo](https://github.com/pytorch/pyt...  \n",
       "4  # TensorFlow Examples\\n\\nThis tutorial was des...  "
      ]
     },
     "execution_count": 5,
     "metadata": {},
     "output_type": "execute_result"
    }
   ],
   "source": [
    "deep_learning_df = j_acquire.scrape_github_data('deep_learning')\n",
    "deep_learning_df = pd.DataFrame.from_dict(deep_learning_df)\n",
    "deep_learning_df.head()"
   ]
  },
  {
   "cell_type": "code",
   "execution_count": 6,
   "metadata": {},
   "outputs": [
    {
     "data": {
      "text/plain": [
       "(30, 3)"
      ]
     },
     "execution_count": 6,
     "metadata": {},
     "output_type": "execute_result"
    }
   ],
   "source": [
    "deep_learning_df.shape"
   ]
  },
  {
   "cell_type": "code",
   "execution_count": 7,
   "metadata": {},
   "outputs": [
    {
     "data": {
      "text/html": [
       "<div>\n",
       "<style scoped>\n",
       "    .dataframe tbody tr th:only-of-type {\n",
       "        vertical-align: middle;\n",
       "    }\n",
       "\n",
       "    .dataframe tbody tr th {\n",
       "        vertical-align: top;\n",
       "    }\n",
       "\n",
       "    .dataframe thead th {\n",
       "        text-align: right;\n",
       "    }\n",
       "</style>\n",
       "<table border=\"1\" class=\"dataframe\">\n",
       "  <thead>\n",
       "    <tr style=\"text-align: right;\">\n",
       "      <th></th>\n",
       "      <th>repo</th>\n",
       "      <th>language</th>\n",
       "      <th>readme_contents</th>\n",
       "    </tr>\n",
       "  </thead>\n",
       "  <tbody>\n",
       "    <tr>\n",
       "      <th>0</th>\n",
       "      <td>tensorflow/tensorflow</td>\n",
       "      <td>C++</td>\n",
       "      <td>&lt;div align=\"center\"&gt;\\n  &lt;img src=\"https://www....</td>\n",
       "    </tr>\n",
       "    <tr>\n",
       "      <th>1</th>\n",
       "      <td>keras-team/keras</td>\n",
       "      <td>Python</td>\n",
       "      <td>﻿# Keras: Deep Learning for humans\\n\\n![Keras ...</td>\n",
       "    </tr>\n",
       "    <tr>\n",
       "      <th>2</th>\n",
       "      <td>scikit-learn/scikit-learn</td>\n",
       "      <td>Python</td>\n",
       "      <td>.. -*- mode: rst -*-\\n\\n|Azure|_ |Travis|_ |Co...</td>\n",
       "    </tr>\n",
       "    <tr>\n",
       "      <th>3</th>\n",
       "      <td>pytorch/pytorch</td>\n",
       "      <td>C++</td>\n",
       "      <td>![PyTorch Logo](https://github.com/pytorch/pyt...</td>\n",
       "    </tr>\n",
       "    <tr>\n",
       "      <th>4</th>\n",
       "      <td>aymericdamien/TensorFlow-Examples</td>\n",
       "      <td>Jupyter Notebook</td>\n",
       "      <td># TensorFlow Examples\\n\\nThis tutorial was des...</td>\n",
       "    </tr>\n",
       "  </tbody>\n",
       "</table>\n",
       "</div>"
      ],
      "text/plain": [
       "                                repo          language  \\\n",
       "0              tensorflow/tensorflow               C++   \n",
       "1                   keras-team/keras            Python   \n",
       "2          scikit-learn/scikit-learn            Python   \n",
       "3                    pytorch/pytorch               C++   \n",
       "4  aymericdamien/TensorFlow-Examples  Jupyter Notebook   \n",
       "\n",
       "                                     readme_contents  \n",
       "0  <div align=\"center\">\\n  <img src=\"https://www....  \n",
       "1  ﻿# Keras: Deep Learning for humans\\n\\n![Keras ...  \n",
       "2  .. -*- mode: rst -*-\\n\\n|Azure|_ |Travis|_ |Co...  \n",
       "3  ![PyTorch Logo](https://github.com/pytorch/pyt...  \n",
       "4  # TensorFlow Examples\\n\\nThis tutorial was des...  "
      ]
     },
     "execution_count": 7,
     "metadata": {},
     "output_type": "execute_result"
    }
   ],
   "source": [
    "machine_learning_df = j_acquire.scrape_github_data('machine_learning')\n",
    "machine_learning_df = pd.DataFrame.from_dict(machine_learning_df)\n",
    "machine_learning_df.head()"
   ]
  },
  {
   "cell_type": "code",
   "execution_count": 8,
   "metadata": {},
   "outputs": [
    {
     "data": {
      "text/plain": [
       "(30, 3)"
      ]
     },
     "execution_count": 8,
     "metadata": {},
     "output_type": "execute_result"
    }
   ],
   "source": [
    "machine_learning_df.shape"
   ]
  },
  {
   "cell_type": "code",
   "execution_count": 9,
   "metadata": {},
   "outputs": [
    {
     "data": {
      "text/html": [
       "<div>\n",
       "<style scoped>\n",
       "    .dataframe tbody tr th:only-of-type {\n",
       "        vertical-align: middle;\n",
       "    }\n",
       "\n",
       "    .dataframe tbody tr th {\n",
       "        vertical-align: top;\n",
       "    }\n",
       "\n",
       "    .dataframe thead th {\n",
       "        text-align: right;\n",
       "    }\n",
       "</style>\n",
       "<table border=\"1\" class=\"dataframe\">\n",
       "  <thead>\n",
       "    <tr style=\"text-align: right;\">\n",
       "      <th></th>\n",
       "      <th>repo</th>\n",
       "      <th>language</th>\n",
       "      <th>readme_contents</th>\n",
       "    </tr>\n",
       "  </thead>\n",
       "  <tbody>\n",
       "    <tr>\n",
       "      <th>0</th>\n",
       "      <td>huggingface/transformers</td>\n",
       "      <td>Python</td>\n",
       "      <td>&lt;p align=\"center\"&gt;\\n    &lt;br&gt;\\n    &lt;img src=\"ht...</td>\n",
       "    </tr>\n",
       "    <tr>\n",
       "      <th>1</th>\n",
       "      <td>apachecn/AiLearning</td>\n",
       "      <td>Python</td>\n",
       "      <td>&lt;p align=\"center\"&gt;\\n    &lt;a href=\"https://www.a...</td>\n",
       "    </tr>\n",
       "    <tr>\n",
       "      <th>2</th>\n",
       "      <td>google-research/bert</td>\n",
       "      <td>Python</td>\n",
       "      <td># BERT\\n\\n**\\*\\*\\*\\*\\* New March 11th, 2020: S...</td>\n",
       "    </tr>\n",
       "    <tr>\n",
       "      <th>3</th>\n",
       "      <td>hankcs/HanLP</td>\n",
       "      <td>Python</td>\n",
       "      <td># HanLP: Han Language Processing\\n\\n[中文](https...</td>\n",
       "    </tr>\n",
       "    <tr>\n",
       "      <th>4</th>\n",
       "      <td>explosion/spaCy</td>\n",
       "      <td>Python</td>\n",
       "      <td>&lt;a href=\"https://explosion.ai\"&gt;&lt;img src=\"https...</td>\n",
       "    </tr>\n",
       "  </tbody>\n",
       "</table>\n",
       "</div>"
      ],
      "text/plain": [
       "                       repo language  \\\n",
       "0  huggingface/transformers   Python   \n",
       "1       apachecn/AiLearning   Python   \n",
       "2      google-research/bert   Python   \n",
       "3              hankcs/HanLP   Python   \n",
       "4           explosion/spaCy   Python   \n",
       "\n",
       "                                     readme_contents  \n",
       "0  <p align=\"center\">\\n    <br>\\n    <img src=\"ht...  \n",
       "1  <p align=\"center\">\\n    <a href=\"https://www.a...  \n",
       "2  # BERT\\n\\n**\\*\\*\\*\\*\\* New March 11th, 2020: S...  \n",
       "3  # HanLP: Han Language Processing\\n\\n[中文](https...  \n",
       "4  <a href=\"https://explosion.ai\"><img src=\"https...  "
      ]
     },
     "execution_count": 9,
     "metadata": {},
     "output_type": "execute_result"
    }
   ],
   "source": [
    "nlp_df = j_acquire.scrape_github_data('nlp')\n",
    "nlp_df = pd.DataFrame.from_dict(nlp_df)\n",
    "nlp_df.head()"
   ]
  },
  {
   "cell_type": "code",
   "execution_count": 10,
   "metadata": {},
   "outputs": [
    {
     "data": {
      "text/plain": [
       "(30, 3)"
      ]
     },
     "execution_count": 10,
     "metadata": {},
     "output_type": "execute_result"
    }
   ],
   "source": [
    "nlp_df.shape"
   ]
  },
  {
   "cell_type": "code",
   "execution_count": 11,
   "metadata": {},
   "outputs": [
    {
     "data": {
      "text/html": [
       "<div>\n",
       "<style scoped>\n",
       "    .dataframe tbody tr th:only-of-type {\n",
       "        vertical-align: middle;\n",
       "    }\n",
       "\n",
       "    .dataframe tbody tr th {\n",
       "        vertical-align: top;\n",
       "    }\n",
       "\n",
       "    .dataframe thead th {\n",
       "        text-align: right;\n",
       "    }\n",
       "</style>\n",
       "<table border=\"1\" class=\"dataframe\">\n",
       "  <thead>\n",
       "    <tr style=\"text-align: right;\">\n",
       "      <th></th>\n",
       "      <th>repo</th>\n",
       "      <th>language</th>\n",
       "      <th>readme_contents</th>\n",
       "    </tr>\n",
       "  </thead>\n",
       "  <tbody>\n",
       "    <tr>\n",
       "      <th>0</th>\n",
       "      <td>puppeteer/puppeteer</td>\n",
       "      <td>JavaScript</td>\n",
       "      <td># Puppeteer\\n\\n&lt;!-- [START badges] --&gt;\\n[![Bui...</td>\n",
       "    </tr>\n",
       "    <tr>\n",
       "      <th>1</th>\n",
       "      <td>storybookjs/storybook</td>\n",
       "      <td>TypeScript</td>\n",
       "      <td>&lt;p align=\"center\"&gt;\\n  &lt;a href=\"https://storybo...</td>\n",
       "    </tr>\n",
       "    <tr>\n",
       "      <th>2</th>\n",
       "      <td>goldbergyoni/nodebestpractices</td>\n",
       "      <td>JavaScript</td>\n",
       "      <td>[✔]: assets/images/checkbox-small-blue.png\\n\\n...</td>\n",
       "    </tr>\n",
       "    <tr>\n",
       "      <th>3</th>\n",
       "      <td>facebook/jest</td>\n",
       "      <td>TypeScript</td>\n",
       "      <td>&lt;p&gt;\\n  &lt;a href=\"http://badge.fury.io/js/jest\"&gt;...</td>\n",
       "    </tr>\n",
       "    <tr>\n",
       "      <th>4</th>\n",
       "      <td>cypress-io/cypress</td>\n",
       "      <td>JavaScript</td>\n",
       "      <td>&lt;p align=\"center\"&gt;\\n  &lt;img src=\"https://cloud....</td>\n",
       "    </tr>\n",
       "  </tbody>\n",
       "</table>\n",
       "</div>"
      ],
      "text/plain": [
       "                             repo    language  \\\n",
       "0             puppeteer/puppeteer  JavaScript   \n",
       "1           storybookjs/storybook  TypeScript   \n",
       "2  goldbergyoni/nodebestpractices  JavaScript   \n",
       "3                   facebook/jest  TypeScript   \n",
       "4              cypress-io/cypress  JavaScript   \n",
       "\n",
       "                                     readme_contents  \n",
       "0  # Puppeteer\\n\\n<!-- [START badges] -->\\n[![Bui...  \n",
       "1  <p align=\"center\">\\n  <a href=\"https://storybo...  \n",
       "2  [✔]: assets/images/checkbox-small-blue.png\\n\\n...  \n",
       "3  <p>\\n  <a href=\"http://badge.fury.io/js/jest\">...  \n",
       "4  <p align=\"center\">\\n  <img src=\"https://cloud....  "
      ]
     },
     "execution_count": 11,
     "metadata": {},
     "output_type": "execute_result"
    }
   ],
   "source": [
    "testing_df = j_acquire.scrape_github_data('testing')\n",
    "testing_df = pd.DataFrame.from_dict(testing_df)\n",
    "testing_df.head()"
   ]
  },
  {
   "cell_type": "code",
   "execution_count": 12,
   "metadata": {},
   "outputs": [
    {
     "data": {
      "text/plain": [
       "(30, 3)"
      ]
     },
     "execution_count": 12,
     "metadata": {},
     "output_type": "execute_result"
    }
   ],
   "source": [
    "testing_df.shape"
   ]
  },
  {
   "cell_type": "code",
   "execution_count": 13,
   "metadata": {},
   "outputs": [
    {
     "data": {
      "text/html": [
       "<div>\n",
       "<style scoped>\n",
       "    .dataframe tbody tr th:only-of-type {\n",
       "        vertical-align: middle;\n",
       "    }\n",
       "\n",
       "    .dataframe tbody tr th {\n",
       "        vertical-align: top;\n",
       "    }\n",
       "\n",
       "    .dataframe thead th {\n",
       "        text-align: right;\n",
       "    }\n",
       "</style>\n",
       "<table border=\"1\" class=\"dataframe\">\n",
       "  <thead>\n",
       "    <tr style=\"text-align: right;\">\n",
       "      <th></th>\n",
       "      <th>repo</th>\n",
       "      <th>language</th>\n",
       "      <th>readme_contents</th>\n",
       "    </tr>\n",
       "  </thead>\n",
       "  <tbody>\n",
       "    <tr>\n",
       "      <th>0</th>\n",
       "      <td>jwasham/coding-interview-university</td>\n",
       "      <td>None</td>\n",
       "      <td># Coding Interview University\\n\\n&gt; I originall...</td>\n",
       "    </tr>\n",
       "    <tr>\n",
       "      <th>1</th>\n",
       "      <td>CyC2018/CS-Notes</td>\n",
       "      <td>Java</td>\n",
       "      <td>&lt;div align=\"center\"&gt;\\r\\n    &lt;a href=\"https://g...</td>\n",
       "    </tr>\n",
       "    <tr>\n",
       "      <th>2</th>\n",
       "      <td>TheAlgorithms/Python</td>\n",
       "      <td>Python</td>\n",
       "      <td># The Algorithms - Python\\n[![Gitpod Ready-to-...</td>\n",
       "    </tr>\n",
       "    <tr>\n",
       "      <th>3</th>\n",
       "      <td>trekhleb/javascript-algorithms</td>\n",
       "      <td>JavaScript</td>\n",
       "      <td># Algoritmos y Estructuras de Datos en JavaScr...</td>\n",
       "    </tr>\n",
       "    <tr>\n",
       "      <th>4</th>\n",
       "      <td>kdn251/interviews</td>\n",
       "      <td>Java</td>\n",
       "      <td>&gt; * 原文地址：[github.com/kdn251/interviews](https:...</td>\n",
       "    </tr>\n",
       "  </tbody>\n",
       "</table>\n",
       "</div>"
      ],
      "text/plain": [
       "                                  repo    language  \\\n",
       "0  jwasham/coding-interview-university        None   \n",
       "1                     CyC2018/CS-Notes        Java   \n",
       "2                 TheAlgorithms/Python      Python   \n",
       "3       trekhleb/javascript-algorithms  JavaScript   \n",
       "4                    kdn251/interviews        Java   \n",
       "\n",
       "                                     readme_contents  \n",
       "0  # Coding Interview University\\n\\n> I originall...  \n",
       "1  <div align=\"center\">\\r\\n    <a href=\"https://g...  \n",
       "2  # The Algorithms - Python\\n[![Gitpod Ready-to-...  \n",
       "3  # Algoritmos y Estructuras de Datos en JavaScr...  \n",
       "4  > * 原文地址：[github.com/kdn251/interviews](https:...  "
      ]
     },
     "execution_count": 13,
     "metadata": {},
     "output_type": "execute_result"
    }
   ],
   "source": [
    "algorithm_df = j_acquire.scrape_github_data('algorithm')\n",
    "algorithm_df = pd.DataFrame.from_dict(algorithm_df)\n",
    "algorithm_df.head()"
   ]
  },
  {
   "cell_type": "code",
   "execution_count": 14,
   "metadata": {},
   "outputs": [
    {
     "data": {
      "text/plain": [
       "(30, 3)"
      ]
     },
     "execution_count": 14,
     "metadata": {},
     "output_type": "execute_result"
    }
   ],
   "source": [
    "algorithm_df.shape"
   ]
  },
  {
   "cell_type": "code",
   "execution_count": 15,
   "metadata": {},
   "outputs": [
    {
     "data": {
      "text/html": [
       "<div>\n",
       "<style scoped>\n",
       "    .dataframe tbody tr th:only-of-type {\n",
       "        vertical-align: middle;\n",
       "    }\n",
       "\n",
       "    .dataframe tbody tr th {\n",
       "        vertical-align: top;\n",
       "    }\n",
       "\n",
       "    .dataframe thead th {\n",
       "        text-align: right;\n",
       "    }\n",
       "</style>\n",
       "<table border=\"1\" class=\"dataframe\">\n",
       "  <thead>\n",
       "    <tr style=\"text-align: right;\">\n",
       "      <th></th>\n",
       "      <th>repo</th>\n",
       "      <th>language</th>\n",
       "      <th>readme_contents</th>\n",
       "    </tr>\n",
       "  </thead>\n",
       "  <tbody>\n",
       "    <tr>\n",
       "      <th>0</th>\n",
       "      <td>hubotio/hubot</td>\n",
       "      <td>JavaScript</td>\n",
       "      <td>[![Build Status](https://travis-ci.org/hubotio...</td>\n",
       "    </tr>\n",
       "    <tr>\n",
       "      <th>1</th>\n",
       "      <td>ccxt/ccxt</td>\n",
       "      <td>JavaScript</td>\n",
       "      <td># CCXT – CryptoCurrency eXchange Trading Libra...</td>\n",
       "    </tr>\n",
       "    <tr>\n",
       "      <th>2</th>\n",
       "      <td>python-telegram-bot/python-telegram-bot</td>\n",
       "      <td>Python</td>\n",
       "      <td>.. image:: https://github.com/python-telegram-...</td>\n",
       "    </tr>\n",
       "    <tr>\n",
       "      <th>3</th>\n",
       "      <td>timgrossmann/InstaPy</td>\n",
       "      <td>Python</td>\n",
       "      <td>&lt;p align=\"center\"&gt;\\n  &lt;img src=\"https://i.imgu...</td>\n",
       "    </tr>\n",
       "    <tr>\n",
       "      <th>4</th>\n",
       "      <td>gunthercox/ChatterBot</td>\n",
       "      <td>Python</td>\n",
       "      <td>![ChatterBot: Machine learning in Python](http...</td>\n",
       "    </tr>\n",
       "  </tbody>\n",
       "</table>\n",
       "</div>"
      ],
      "text/plain": [
       "                                      repo    language  \\\n",
       "0                            hubotio/hubot  JavaScript   \n",
       "1                                ccxt/ccxt  JavaScript   \n",
       "2  python-telegram-bot/python-telegram-bot      Python   \n",
       "3                     timgrossmann/InstaPy      Python   \n",
       "4                    gunthercox/ChatterBot      Python   \n",
       "\n",
       "                                     readme_contents  \n",
       "0  [![Build Status](https://travis-ci.org/hubotio...  \n",
       "1  # CCXT – CryptoCurrency eXchange Trading Libra...  \n",
       "2  .. image:: https://github.com/python-telegram-...  \n",
       "3  <p align=\"center\">\\n  <img src=\"https://i.imgu...  \n",
       "4  ![ChatterBot: Machine learning in Python](http...  "
      ]
     },
     "execution_count": 15,
     "metadata": {},
     "output_type": "execute_result"
    }
   ],
   "source": [
    "bots_df = j_acquire.scrape_github_data('bots')\n",
    "bots_df = pd.DataFrame.from_dict(bots_df)\n",
    "bots_df.head()"
   ]
  },
  {
   "cell_type": "code",
   "execution_count": 16,
   "metadata": {},
   "outputs": [
    {
     "data": {
      "text/plain": [
       "(30, 3)"
      ]
     },
     "execution_count": 16,
     "metadata": {},
     "output_type": "execute_result"
    }
   ],
   "source": [
    "bots_df.shape"
   ]
  },
  {
   "cell_type": "code",
   "execution_count": 17,
   "metadata": {},
   "outputs": [
    {
     "data": {
      "text/html": [
       "<div>\n",
       "<style scoped>\n",
       "    .dataframe tbody tr th:only-of-type {\n",
       "        vertical-align: middle;\n",
       "    }\n",
       "\n",
       "    .dataframe tbody tr th {\n",
       "        vertical-align: top;\n",
       "    }\n",
       "\n",
       "    .dataframe thead th {\n",
       "        text-align: right;\n",
       "    }\n",
       "</style>\n",
       "<table border=\"1\" class=\"dataframe\">\n",
       "  <thead>\n",
       "    <tr style=\"text-align: right;\">\n",
       "      <th></th>\n",
       "      <th>repo</th>\n",
       "      <th>language</th>\n",
       "      <th>readme_contents</th>\n",
       "    </tr>\n",
       "  </thead>\n",
       "  <tbody>\n",
       "    <tr>\n",
       "      <th>0</th>\n",
       "      <td>freeCodeCamp/freeCodeCamp</td>\n",
       "      <td>JavaScript</td>\n",
       "      <td>![freeCodeCamp.org Social Banner](https://s3.a...</td>\n",
       "    </tr>\n",
       "    <tr>\n",
       "      <th>1</th>\n",
       "      <td>vuejs/vue</td>\n",
       "      <td>JavaScript</td>\n",
       "      <td>&lt;p align=\"center\"&gt;&lt;a href=\"https://vuejs.org\" ...</td>\n",
       "    </tr>\n",
       "    <tr>\n",
       "      <th>2</th>\n",
       "      <td>facebook/react</td>\n",
       "      <td>JavaScript</td>\n",
       "      <td># [React](https://reactjs.org/) &amp;middot; [![Gi...</td>\n",
       "    </tr>\n",
       "    <tr>\n",
       "      <th>3</th>\n",
       "      <td>twbs/bootstrap</td>\n",
       "      <td>JavaScript</td>\n",
       "      <td>&lt;p align=\"center\"&gt;\\n  &lt;a href=\"https://getboot...</td>\n",
       "    </tr>\n",
       "    <tr>\n",
       "      <th>4</th>\n",
       "      <td>getify/You-Dont-Know-JS</td>\n",
       "      <td>None</td>\n",
       "      <td># You Don't Know JS Yet (book series) - 2nd Ed...</td>\n",
       "    </tr>\n",
       "  </tbody>\n",
       "</table>\n",
       "</div>"
      ],
      "text/plain": [
       "                        repo    language  \\\n",
       "0  freeCodeCamp/freeCodeCamp  JavaScript   \n",
       "1                  vuejs/vue  JavaScript   \n",
       "2             facebook/react  JavaScript   \n",
       "3             twbs/bootstrap  JavaScript   \n",
       "4    getify/You-Dont-Know-JS        None   \n",
       "\n",
       "                                     readme_contents  \n",
       "0  ![freeCodeCamp.org Social Banner](https://s3.a...  \n",
       "1  <p align=\"center\"><a href=\"https://vuejs.org\" ...  \n",
       "2  # [React](https://reactjs.org/) &middot; [![Gi...  \n",
       "3  <p align=\"center\">\\n  <a href=\"https://getboot...  \n",
       "4  # You Don't Know JS Yet (book series) - 2nd Ed...  "
      ]
     },
     "execution_count": 17,
     "metadata": {},
     "output_type": "execute_result"
    }
   ],
   "source": [
    "javascript_df = j_acquire.scrape_github_data('javascript')\n",
    "javascript_df = pd.DataFrame.from_dict(javascript_df)\n",
    "javascript_df.head()"
   ]
  },
  {
   "cell_type": "code",
   "execution_count": 18,
   "metadata": {},
   "outputs": [
    {
     "data": {
      "text/plain": [
       "(30, 3)"
      ]
     },
     "execution_count": 18,
     "metadata": {},
     "output_type": "execute_result"
    }
   ],
   "source": [
    "javascript_df.shape"
   ]
  },
  {
   "cell_type": "code",
   "execution_count": 19,
   "metadata": {},
   "outputs": [
    {
     "data": {
      "text/html": [
       "<div>\n",
       "<style scoped>\n",
       "    .dataframe tbody tr th:only-of-type {\n",
       "        vertical-align: middle;\n",
       "    }\n",
       "\n",
       "    .dataframe tbody tr th {\n",
       "        vertical-align: top;\n",
       "    }\n",
       "\n",
       "    .dataframe thead th {\n",
       "        text-align: right;\n",
       "    }\n",
       "</style>\n",
       "<table border=\"1\" class=\"dataframe\">\n",
       "  <thead>\n",
       "    <tr style=\"text-align: right;\">\n",
       "      <th></th>\n",
       "      <th>repo</th>\n",
       "      <th>language</th>\n",
       "      <th>readme_contents</th>\n",
       "    </tr>\n",
       "  </thead>\n",
       "  <tbody>\n",
       "    <tr>\n",
       "      <th>0</th>\n",
       "      <td>jakevdp/PythonDataScienceHandbook</td>\n",
       "      <td>Jupyter Notebook</td>\n",
       "      <td># Python Data Science Handbook\\n\\n[![Binder](h...</td>\n",
       "    </tr>\n",
       "    <tr>\n",
       "      <th>1</th>\n",
       "      <td>CamDavidsonPilon/Probabilistic-Programming-and...</td>\n",
       "      <td>Jupyter Notebook</td>\n",
       "      <td># [Bayesian Methods for Hackers](http://camdav...</td>\n",
       "    </tr>\n",
       "    <tr>\n",
       "      <th>2</th>\n",
       "      <td>ageron/handson-ml</td>\n",
       "      <td>Jupyter Notebook</td>\n",
       "      <td>Machine Learning Notebooks\\n==================...</td>\n",
       "    </tr>\n",
       "    <tr>\n",
       "      <th>3</th>\n",
       "      <td>MLEveryday/100-Days-Of-ML-Code</td>\n",
       "      <td>Jupyter Notebook</td>\n",
       "      <td># 机器学习100天\\n\\n英文原版请移步[Avik-Jain](https://githu...</td>\n",
       "    </tr>\n",
       "    <tr>\n",
       "      <th>4</th>\n",
       "      <td>trekhleb/homemade-machine-learning</td>\n",
       "      <td>Jupyter Notebook</td>\n",
       "      <td># Homemade Machine Learning\\n\\n[![Binder](http...</td>\n",
       "    </tr>\n",
       "  </tbody>\n",
       "</table>\n",
       "</div>"
      ],
      "text/plain": [
       "                                                repo          language  \\\n",
       "0                  jakevdp/PythonDataScienceHandbook  Jupyter Notebook   \n",
       "1  CamDavidsonPilon/Probabilistic-Programming-and...  Jupyter Notebook   \n",
       "2                                  ageron/handson-ml  Jupyter Notebook   \n",
       "3                     MLEveryday/100-Days-Of-ML-Code  Jupyter Notebook   \n",
       "4                 trekhleb/homemade-machine-learning  Jupyter Notebook   \n",
       "\n",
       "                                     readme_contents  \n",
       "0  # Python Data Science Handbook\\n\\n[![Binder](h...  \n",
       "1  # [Bayesian Methods for Hackers](http://camdav...  \n",
       "2  Machine Learning Notebooks\\n==================...  \n",
       "3  # 机器学习100天\\n\\n英文原版请移步[Avik-Jain](https://githu...  \n",
       "4  # Homemade Machine Learning\\n\\n[![Binder](http...  "
      ]
     },
     "execution_count": 19,
     "metadata": {},
     "output_type": "execute_result"
    }
   ],
   "source": [
    "jupyter_notebook_df = j_acquire.scrape_github_data('jupyter_notebook')\n",
    "jupyter_notebook_df = pd.DataFrame.from_dict(jupyter_notebook_df)\n",
    "jupyter_notebook_df.head()"
   ]
  },
  {
   "cell_type": "code",
   "execution_count": 20,
   "metadata": {},
   "outputs": [
    {
     "data": {
      "text/plain": [
       "(30, 3)"
      ]
     },
     "execution_count": 20,
     "metadata": {},
     "output_type": "execute_result"
    }
   ],
   "source": [
    "jupyter_notebook_df.shape"
   ]
  },
  {
   "cell_type": "code",
   "execution_count": 21,
   "metadata": {},
   "outputs": [
    {
     "data": {
      "text/html": [
       "<div>\n",
       "<style scoped>\n",
       "    .dataframe tbody tr th:only-of-type {\n",
       "        vertical-align: middle;\n",
       "    }\n",
       "\n",
       "    .dataframe tbody tr th {\n",
       "        vertical-align: top;\n",
       "    }\n",
       "\n",
       "    .dataframe thead th {\n",
       "        text-align: right;\n",
       "    }\n",
       "</style>\n",
       "<table border=\"1\" class=\"dataframe\">\n",
       "  <thead>\n",
       "    <tr style=\"text-align: right;\">\n",
       "      <th></th>\n",
       "      <th>repo</th>\n",
       "      <th>language</th>\n",
       "      <th>readme_contents</th>\n",
       "    </tr>\n",
       "  </thead>\n",
       "  <tbody>\n",
       "    <tr>\n",
       "      <th>0</th>\n",
       "      <td>tensorflow/tensorflow</td>\n",
       "      <td>C++</td>\n",
       "      <td>&lt;div align=\"center\"&gt;\\n  &lt;img src=\"https://www....</td>\n",
       "    </tr>\n",
       "    <tr>\n",
       "      <th>1</th>\n",
       "      <td>CyC2018/CS-Notes</td>\n",
       "      <td>Java</td>\n",
       "      <td>&lt;div align=\"center\"&gt;\\r\\n    &lt;a href=\"https://g...</td>\n",
       "    </tr>\n",
       "    <tr>\n",
       "      <th>2</th>\n",
       "      <td>donnemartin/system-design-primer</td>\n",
       "      <td>Python</td>\n",
       "      <td>*[English](README.md) ∙ [日本語](README-ja.md) ∙ ...</td>\n",
       "    </tr>\n",
       "    <tr>\n",
       "      <th>3</th>\n",
       "      <td>vinta/awesome-python</td>\n",
       "      <td>Python</td>\n",
       "      <td># Awesome Python [![Awesome](https://cdn.rawgi...</td>\n",
       "    </tr>\n",
       "    <tr>\n",
       "      <th>4</th>\n",
       "      <td>TheAlgorithms/Python</td>\n",
       "      <td>Python</td>\n",
       "      <td># The Algorithms - Python\\n[![Gitpod Ready-to-...</td>\n",
       "    </tr>\n",
       "  </tbody>\n",
       "</table>\n",
       "</div>"
      ],
      "text/plain": [
       "                               repo language  \\\n",
       "0             tensorflow/tensorflow      C++   \n",
       "1                  CyC2018/CS-Notes     Java   \n",
       "2  donnemartin/system-design-primer   Python   \n",
       "3              vinta/awesome-python   Python   \n",
       "4              TheAlgorithms/Python   Python   \n",
       "\n",
       "                                     readme_contents  \n",
       "0  <div align=\"center\">\\n  <img src=\"https://www....  \n",
       "1  <div align=\"center\">\\r\\n    <a href=\"https://g...  \n",
       "2  *[English](README.md) ∙ [日本語](README-ja.md) ∙ ...  \n",
       "3  # Awesome Python [![Awesome](https://cdn.rawgi...  \n",
       "4  # The Algorithms - Python\\n[![Gitpod Ready-to-...  "
      ]
     },
     "execution_count": 21,
     "metadata": {},
     "output_type": "execute_result"
    }
   ],
   "source": [
    "python_df = j_acquire.scrape_github_data('python')\n",
    "python_df = pd.DataFrame.from_dict(python_df)\n",
    "python_df.head()"
   ]
  },
  {
   "cell_type": "code",
   "execution_count": 22,
   "metadata": {},
   "outputs": [
    {
     "data": {
      "text/plain": [
       "(30, 3)"
      ]
     },
     "execution_count": 22,
     "metadata": {},
     "output_type": "execute_result"
    }
   ],
   "source": [
    "python_df.shape"
   ]
  },
  {
   "cell_type": "code",
   "execution_count": 23,
   "metadata": {},
   "outputs": [
    {
     "data": {
      "text/html": [
       "<div>\n",
       "<style scoped>\n",
       "    .dataframe tbody tr th:only-of-type {\n",
       "        vertical-align: middle;\n",
       "    }\n",
       "\n",
       "    .dataframe tbody tr th {\n",
       "        vertical-align: top;\n",
       "    }\n",
       "\n",
       "    .dataframe thead th {\n",
       "        text-align: right;\n",
       "    }\n",
       "</style>\n",
       "<table border=\"1\" class=\"dataframe\">\n",
       "  <thead>\n",
       "    <tr style=\"text-align: right;\">\n",
       "      <th></th>\n",
       "      <th>repo</th>\n",
       "      <th>language</th>\n",
       "      <th>readme_contents</th>\n",
       "    </tr>\n",
       "  </thead>\n",
       "  <tbody>\n",
       "    <tr>\n",
       "      <th>0</th>\n",
       "      <td>grafana/grafana</td>\n",
       "      <td>TypeScript</td>\n",
       "      <td>![Grafana](docs/logo-horizontal.png)\\n\\nThe op...</td>\n",
       "    </tr>\n",
       "    <tr>\n",
       "      <th>1</th>\n",
       "      <td>metabase/metabase</td>\n",
       "      <td>Clojure</td>\n",
       "      <td># Metabase\\n\\nMetabase is the easy, open sourc...</td>\n",
       "    </tr>\n",
       "    <tr>\n",
       "      <th>2</th>\n",
       "      <td>academic/awesome-datascience</td>\n",
       "      <td>None</td>\n",
       "      <td># Awesome Data Science [![Awesome](https://cdn...</td>\n",
       "    </tr>\n",
       "    <tr>\n",
       "      <th>3</th>\n",
       "      <td>plotly/dash</td>\n",
       "      <td>Python</td>\n",
       "      <td># Dash\\n\\n[![CircleCI](https://img.shields.io/...</td>\n",
       "    </tr>\n",
       "    <tr>\n",
       "      <th>4</th>\n",
       "      <td>plotly/plotly.js</td>\n",
       "      <td>JavaScript</td>\n",
       "      <td>&lt;a href=\"https://plotly.com/javascript/\"&gt;&lt;img ...</td>\n",
       "    </tr>\n",
       "  </tbody>\n",
       "</table>\n",
       "</div>"
      ],
      "text/plain": [
       "                           repo    language  \\\n",
       "0               grafana/grafana  TypeScript   \n",
       "1             metabase/metabase     Clojure   \n",
       "2  academic/awesome-datascience        None   \n",
       "3                   plotly/dash      Python   \n",
       "4              plotly/plotly.js  JavaScript   \n",
       "\n",
       "                                     readme_contents  \n",
       "0  ![Grafana](docs/logo-horizontal.png)\\n\\nThe op...  \n",
       "1  # Metabase\\n\\nMetabase is the easy, open sourc...  \n",
       "2  # Awesome Data Science [![Awesome](https://cdn...  \n",
       "3  # Dash\\n\\n[![CircleCI](https://img.shields.io/...  \n",
       "4  <a href=\"https://plotly.com/javascript/\"><img ...  "
      ]
     },
     "execution_count": 23,
     "metadata": {},
     "output_type": "execute_result"
    }
   ],
   "source": [
    "big_massive_df = pd.concat([data_vis_df, deep_learning_df, machine_learning_df,\n",
    "                            nlp_df, testing_df, algorithm_df, bots_df, \n",
    "                            javascript_df, jupyter_notebook_df, python_df])\n",
    "\n",
    "big_massive_df.head()"
   ]
  },
  {
   "cell_type": "code",
   "execution_count": 24,
   "metadata": {},
   "outputs": [
    {
     "data": {
      "text/plain": [
       "(300, 3)"
      ]
     },
     "execution_count": 24,
     "metadata": {},
     "output_type": "execute_result"
    }
   ],
   "source": [
    "big_massive_df.shape"
   ]
  },
  {
   "cell_type": "code",
   "execution_count": null,
   "metadata": {},
   "outputs": [],
   "source": []
  }
 ],
 "metadata": {
  "kernelspec": {
   "display_name": "Python 3",
   "language": "python",
   "name": "python3"
  },
  "language_info": {
   "codemirror_mode": {
    "name": "ipython",
    "version": 3
   },
   "file_extension": ".py",
   "mimetype": "text/x-python",
   "name": "python",
   "nbconvert_exporter": "python",
   "pygments_lexer": "ipython3",
   "version": "3.7.4"
  }
 },
 "nbformat": 4,
 "nbformat_minor": 4
}
