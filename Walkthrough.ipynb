{
 "cells": [
  {
   "cell_type": "code",
   "execution_count": 1,
   "metadata": {},
   "outputs": [],
   "source": [
    "import pandas as pd\n",
    "from scipy import stats\n",
    "\n",
    "import warnings\n",
    "warnings.filterwarnings(\"ignore\")\n",
    "\n",
    "import seaborn as sns\n",
    "import matplotlib.pyplot as plt\n",
    "%matplotlib inline\n",
    "\n",
    "\n",
    "import j_acquire\n",
    "import j_prep\n",
    "import explore\n",
    "import modeling"
   ]
  },
  {
   "cell_type": "markdown",
   "metadata": {},
   "source": [
    "# NLP Project\n",
    "\n",
    "### The Goal: Build a model that can predict what programming language a repository is, given the text of the README file.\n",
    "\n",
    "# Planning\n",
    "\n",
    "- Acauire data from github repositories from various topics\n",
    "- Clean and prep it for nlp\n",
    "- Explore it for patterns or groups that can be used for classifying\n",
    "- Create models to predict programing language\n",
    "- Deploy the best model on test data\n",
    "- Present our findings\n",
    "\n",
    "# Acquisition\n",
    "\n",
    "We chose to look at 11 topics and scrape the readme files of the 30 most starred repos in each topic.\n",
    "- Topics:\n",
    "    1. algorithm\n",
    "    2. bots\n",
    "    3. data-visualization\n",
    "    4. deep_learning\n",
    "    5. javascript\n",
    "    6. jupyter_notebook\n",
    "    7. machine_learning\n",
    "    8. nlp\n",
    "    9. python\n",
    "    10. repo_source\n",
    "    11. testing\n",
    "\n",
    "We saved the source code of each topic page into a text file for future access and to avoid any access issues. Our create_large_df function scrapes the repo names from each text file, applies Zach's scrape_github_data function to acquire the language type and readme in each repo, drops any null rows, and then combines everything into one large dataframe."
   ]
  },
  {
   "cell_type": "code",
   "execution_count": 2,
   "metadata": {},
   "outputs": [
    {
     "name": "stdout",
     "output_type": "stream",
     "text": [
      "There are 298 rows in the resulting dataframe.\n"
     ]
    }
   ],
   "source": [
    "df = explore.make_initial_df()\n",
    "print(f'There are {df.shape[0]} rows in the resulting dataframe.')"
   ]
  },
  {
   "cell_type": "code",
   "execution_count": 3,
   "metadata": {},
   "outputs": [
    {
     "data": {
      "text/html": [
       "<div>\n",
       "<style scoped>\n",
       "    .dataframe tbody tr th:only-of-type {\n",
       "        vertical-align: middle;\n",
       "    }\n",
       "\n",
       "    .dataframe tbody tr th {\n",
       "        vertical-align: top;\n",
       "    }\n",
       "\n",
       "    .dataframe thead th {\n",
       "        text-align: right;\n",
       "    }\n",
       "</style>\n",
       "<table border=\"1\" class=\"dataframe\">\n",
       "  <thead>\n",
       "    <tr style=\"text-align: right;\">\n",
       "      <th></th>\n",
       "      <th>repo</th>\n",
       "      <th>language</th>\n",
       "      <th>readme_contents</th>\n",
       "      <th>basic_clean</th>\n",
       "      <th>clean_tokes</th>\n",
       "      <th>lemmatized</th>\n",
       "      <th>clean_lemmatized</th>\n",
       "    </tr>\n",
       "  </thead>\n",
       "  <tbody>\n",
       "    <tr>\n",
       "      <td>0</td>\n",
       "      <td>CyC2018/CS-Notes</td>\n",
       "      <td>Java</td>\n",
       "      <td>&lt;div align=\"center\"&gt;\\r\\n    &lt;a href=\"https://g...</td>\n",
       "      <td>\\r\\n     \\r\\n     \\r\\n     \\r\\n     \\r\\n\\r\\n\\r...</td>\n",
       "      <td>[nbspnbsp, nbspnbsp, nbspnbspnbspnbspnbspnbspn...</td>\n",
       "      <td>nbspnbsp nbspnbsp nbspnbspnbspnbspnbspnbspnbsp...</td>\n",
       "      <td>nbspnbsp nbspnbsp nbspnbspnbspnbspnbspnbspnbsp...</td>\n",
       "    </tr>\n",
       "    <tr>\n",
       "      <td>1</td>\n",
       "      <td>TheAlgorithms/Python</td>\n",
       "      <td>Python</td>\n",
       "      <td># The Algorithms - Python\\n[![Gitpod Ready-to-...</td>\n",
       "      <td>the algorithms  python\\ngitpod readytocodehtt...</td>\n",
       "      <td>[the, algorithms, python, gitpod, readytocodeh...</td>\n",
       "      <td>the algorithm python gitpod readytocodehttpsim...</td>\n",
       "      <td>algorithm python gitpod readytocodehttpsimgshi...</td>\n",
       "    </tr>\n",
       "    <tr>\n",
       "      <td>2</td>\n",
       "      <td>trekhleb/javascript-algorithms</td>\n",
       "      <td>JavaScript</td>\n",
       "      <td># Algoritmos y Estructuras de Datos en JavaScr...</td>\n",
       "      <td>algoritmos y estructuras de datos en javascri...</td>\n",
       "      <td>[algoritmos, y, estructuras, de, datos, en, ja...</td>\n",
       "      <td>algoritmos y estructuras de datos en javascrip...</td>\n",
       "      <td>algoritmos estructuras de datos en javascript ...</td>\n",
       "    </tr>\n",
       "    <tr>\n",
       "      <td>3</td>\n",
       "      <td>kdn251/interviews</td>\n",
       "      <td>Java</td>\n",
       "      <td>&gt; * 原文地址：[github.com/kdn251/interviews](https:...</td>\n",
       "      <td>githubcomkdn251interviewshttpsgithubcomkdn25...</td>\n",
       "      <td>[githubcomkdn251interviewshttpsgithubcomkdn251...</td>\n",
       "      <td>githubcomkdn251interviewshttpsgithubcomkdn251i...</td>\n",
       "      <td>githubcomkdn251interviewshttpsgithubcomkdn251i...</td>\n",
       "    </tr>\n",
       "    <tr>\n",
       "      <td>4</td>\n",
       "      <td>yangshun/tech-interview-handbook</td>\n",
       "      <td>JavaScript</td>\n",
       "      <td>&lt;h1 align=\"center\"&gt;Tech Interview Handbook&lt;/h1...</td>\n",
       "      <td>tech interview handbook\\n\\n\\n  \\n    \\n  \\n  \\...</td>\n",
       "      <td>[tech, interview, handbook, credits, illustrat...</td>\n",
       "      <td>tech interview handbook credit illustration by...</td>\n",
       "      <td>tech interview handbook credit illustration ya...</td>\n",
       "    </tr>\n",
       "  </tbody>\n",
       "</table>\n",
       "</div>"
      ],
      "text/plain": [
       "                               repo    language  \\\n",
       "0                  CyC2018/CS-Notes        Java   \n",
       "1              TheAlgorithms/Python      Python   \n",
       "2    trekhleb/javascript-algorithms  JavaScript   \n",
       "3                 kdn251/interviews        Java   \n",
       "4  yangshun/tech-interview-handbook  JavaScript   \n",
       "\n",
       "                                     readme_contents  \\\n",
       "0  <div align=\"center\">\\r\\n    <a href=\"https://g...   \n",
       "1  # The Algorithms - Python\\n[![Gitpod Ready-to-...   \n",
       "2  # Algoritmos y Estructuras de Datos en JavaScr...   \n",
       "3  > * 原文地址：[github.com/kdn251/interviews](https:...   \n",
       "4  <h1 align=\"center\">Tech Interview Handbook</h1...   \n",
       "\n",
       "                                         basic_clean  \\\n",
       "0  \\r\\n     \\r\\n     \\r\\n     \\r\\n     \\r\\n\\r\\n\\r...   \n",
       "1   the algorithms  python\\ngitpod readytocodehtt...   \n",
       "2   algoritmos y estructuras de datos en javascri...   \n",
       "3    githubcomkdn251interviewshttpsgithubcomkdn25...   \n",
       "4  tech interview handbook\\n\\n\\n  \\n    \\n  \\n  \\...   \n",
       "\n",
       "                                         clean_tokes  \\\n",
       "0  [nbspnbsp, nbspnbsp, nbspnbspnbspnbspnbspnbspn...   \n",
       "1  [the, algorithms, python, gitpod, readytocodeh...   \n",
       "2  [algoritmos, y, estructuras, de, datos, en, ja...   \n",
       "3  [githubcomkdn251interviewshttpsgithubcomkdn251...   \n",
       "4  [tech, interview, handbook, credits, illustrat...   \n",
       "\n",
       "                                          lemmatized  \\\n",
       "0  nbspnbsp nbspnbsp nbspnbspnbspnbspnbspnbspnbsp...   \n",
       "1  the algorithm python gitpod readytocodehttpsim...   \n",
       "2  algoritmos y estructuras de datos en javascrip...   \n",
       "3  githubcomkdn251interviewshttpsgithubcomkdn251i...   \n",
       "4  tech interview handbook credit illustration by...   \n",
       "\n",
       "                                    clean_lemmatized  \n",
       "0  nbspnbsp nbspnbsp nbspnbspnbspnbspnbspnbspnbsp...  \n",
       "1  algorithm python gitpod readytocodehttpsimgshi...  \n",
       "2  algoritmos estructuras de datos en javascript ...  \n",
       "3  githubcomkdn251interviewshttpsgithubcomkdn251i...  \n",
       "4  tech interview handbook credit illustration ya...  "
      ]
     },
     "execution_count": 3,
     "metadata": {},
     "output_type": "execute_result"
    }
   ],
   "source": [
    "df.head()"
   ]
  },
  {
   "cell_type": "code",
   "execution_count": 4,
   "metadata": {},
   "outputs": [
    {
     "name": "stdout",
     "output_type": "stream",
     "text": [
      "<class 'pandas.core.frame.DataFrame'>\n",
      "RangeIndex: 298 entries, 0 to 297\n",
      "Data columns (total 7 columns):\n",
      "repo                298 non-null object\n",
      "language            298 non-null object\n",
      "readme_contents     298 non-null object\n",
      "basic_clean         298 non-null object\n",
      "clean_tokes         298 non-null object\n",
      "lemmatized          298 non-null object\n",
      "clean_lemmatized    298 non-null object\n",
      "dtypes: object(7)\n",
      "memory usage: 16.4+ KB\n"
     ]
    }
   ],
   "source": [
    "df.info()"
   ]
  },
  {
   "cell_type": "markdown",
   "metadata": {},
   "source": [
    "# Preparation\n",
    "\n",
    "Our prep_readme_data function accomplishes all of the basic clean operations, adds new columns tokenizing, stemming, and lemmatizing the readme contents. \n",
    "\n",
    "We also added a number of new features to make modeling easier. \n",
    "- General languages: grouping all the popular languages together, and adding the singletons into an 'other' category\n",
    "- Number of individual words\n",
    "- Number of unique words\n",
    "- Number of links\n",
    "- Counts of each .py, .js & .ipynb extensions\n",
    "\n",
    "This file can be saved as a .csv for easy access and to save time."
   ]
  },
  {
   "cell_type": "code",
   "execution_count": 5,
   "metadata": {},
   "outputs": [],
   "source": [
    "df = explore.add_new_columns(df)\n",
    "#df.to_csv('prepared_df.csv')\n",
    "#df = pd.read_csv('prepared_df.csv')"
   ]
  },
  {
   "cell_type": "code",
   "execution_count": 6,
   "metadata": {},
   "outputs": [],
   "source": [
    "df = explore.bin_link_counts(df)\n",
    "df = explore.bin_word_counts(df)"
   ]
  },
  {
   "cell_type": "markdown",
   "metadata": {},
   "source": [
    "Next we created a dataframe of every word in each of the popular languages: Python, JavaScript, Jupyter Notebooks, C++, TypeScript, Java, other, and all languages together."
   ]
  },
  {
   "cell_type": "code",
   "execution_count": 7,
   "metadata": {},
   "outputs": [],
   "source": [
    "word_counts = explore.make_word_counts_df(df)"
   ]
  },
  {
   "cell_type": "markdown",
   "metadata": {},
   "source": [
    "Lastly, we created a vectorized dataframe with each of the words in the readmes are individual columns, and their importance in each readme are the values. We also added the new columns we created to this datafame for modeling purposes."
   ]
  },
  {
   "cell_type": "code",
   "execution_count": 8,
   "metadata": {},
   "outputs": [],
   "source": [
    "vectorized_df = explore.make_vectorized_df(df)"
   ]
  },
  {
   "cell_type": "markdown",
   "metadata": {},
   "source": [
    "# Exploration"
   ]
  },
  {
   "cell_type": "markdown",
   "metadata": {},
   "source": [
    "What are the 10 most common words in our dataset?"
   ]
  },
  {
   "cell_type": "code",
   "execution_count": 9,
   "metadata": {},
   "outputs": [
    {
     "data": {
      "text/plain": [
       "de         1529\n",
       "python     1372\n",
       "data       1247\n",
       "use        1231\n",
       "model      1154\n",
       "using      1036\n",
       "1           991\n",
       "code        927\n",
       "install     883\n",
       "network     761\n",
       "Name: all, dtype: int64"
      ]
     },
     "execution_count": 9,
     "metadata": {},
     "output_type": "execute_result"
    }
   ],
   "source": [
    "word_counts.sort_values(by='all', ascending=False)['all'].head(10)"
   ]
  },
  {
   "cell_type": "markdown",
   "metadata": {},
   "source": [
    "What are the 10 most common words in each language?"
   ]
  },
  {
   "cell_type": "code",
   "execution_count": 10,
   "metadata": {},
   "outputs": [
    {
     "data": {
      "text/plain": [
       "python     923\n",
       "model      731\n",
       "data       437\n",
       "use        401\n",
       "install    365\n",
       "0          348\n",
       "code       348\n",
       "using      339\n",
       "_          331\n",
       "library    321\n",
       "Name: python, dtype: int64"
      ]
     },
     "execution_count": 10,
     "metadata": {},
     "output_type": "execute_result"
    }
   ],
   "source": [
    "# Python\n",
    "word_counts.sort_values(by='python', ascending=False)['python'].head(10)"
   ]
  },
  {
   "cell_type": "code",
   "execution_count": 11,
   "metadata": {},
   "outputs": [
    {
     "data": {
      "text/plain": [
       "de            1496\n",
       "e              488\n",
       "que            379\n",
       "const          365\n",
       "covid19        361\n",
       "1              345\n",
       "para           336\n",
       "use            329\n",
       "javascript     318\n",
       "um             308\n",
       "Name: javascript, dtype: int64"
      ]
     },
     "execution_count": 11,
     "metadata": {},
     "output_type": "execute_result"
    }
   ],
   "source": [
    "# JavaScript\n",
    "word_counts.sort_values(by='javascript', ascending=False)['javascript'].head(10)"
   ]
  },
  {
   "cell_type": "code",
   "execution_count": 12,
   "metadata": {},
   "outputs": [
    {
     "data": {
      "text/plain": [
       "data          280\n",
       "python        279\n",
       "tensorflow    253\n",
       "using         240\n",
       "model         214\n",
       "use           209\n",
       "network       205\n",
       "notebook      199\n",
       "learning      193\n",
       "install       190\n",
       "Name: jupyter, dtype: int64"
      ]
     },
     "execution_count": 12,
     "metadata": {},
     "output_type": "execute_result"
    }
   ],
   "source": [
    "# Jupyter Notebook\n",
    "word_counts.sort_values(by='jupyter', ascending=False)['jupyter'].head(10)"
   ]
  },
  {
   "cell_type": "code",
   "execution_count": 13,
   "metadata": {},
   "outputs": [
    {
     "data": {
      "text/plain": [
       "build      179\n",
       "1          134\n",
       "pytorch    133\n",
       "onnx       130\n",
       "c          113\n",
       "support    112\n",
       "cntk       109\n",
       "using      107\n",
       "given      106\n",
       "2          102\n",
       "Name: c_plus, dtype: int64"
      ]
     },
     "execution_count": 13,
     "metadata": {},
     "output_type": "execute_result"
    }
   ],
   "source": [
    "# C++\n",
    "word_counts.sort_values(by='c_plus', ascending=False)['c_plus'].head(10)"
   ]
  },
  {
   "cell_type": "code",
   "execution_count": 14,
   "metadata": {},
   "outputs": [
    {
     "data": {
      "text/plain": [
       "component    69\n",
       "using        63\n",
       "test         57\n",
       "run          55\n",
       "storybook    52\n",
       "build        47\n",
       "npm          46\n",
       "use          46\n",
       "yarn         46\n",
       "data         44\n",
       "Name: typescript, dtype: int64"
      ]
     },
     "execution_count": 14,
     "metadata": {},
     "output_type": "execute_result"
    }
   ],
   "source": [
    "# TypeScript\n",
    "word_counts.sort_values(by='typescript', ascending=False)['typescript'].head(10)"
   ]
  },
  {
   "cell_type": "code",
   "execution_count": 15,
   "metadata": {},
   "outputs": [
    {
     "data": {
      "text/plain": [
       "tree      106\n",
       "binary     93\n",
       "dp         90\n",
       "two        88\n",
       "search     84\n",
       "dfs        69\n",
       "table      67\n",
       "hash       56\n",
       "list       55\n",
       "string     46\n",
       "Name: java, dtype: int64"
      ]
     },
     "execution_count": 15,
     "metadata": {},
     "output_type": "execute_result"
    }
   ],
   "source": [
    "# Java\n",
    "word_counts.sort_values(by='java', ascending=False)['java'].head(10)"
   ]
  },
  {
   "cell_type": "code",
   "execution_count": 16,
   "metadata": {},
   "outputs": [
    {
     "data": {
      "text/plain": [
       "al          374\n",
       "et          373\n",
       "network     218\n",
       "deep        182\n",
       "learning    176\n",
       "go          163\n",
       "code        160\n",
       "neural      151\n",
       "2016        147\n",
       "data        136\n",
       "Name: other, dtype: int64"
      ]
     },
     "execution_count": 16,
     "metadata": {},
     "output_type": "execute_result"
    }
   ],
   "source": [
    "# Everything else\n",
    "word_counts.sort_values(by='other', ascending=False)['other'].head(10)"
   ]
  },
  {
   "cell_type": "markdown",
   "metadata": {},
   "source": [
    "- Now let's take a look at all the most frequently occuring words for each language all together"
   ]
  },
  {
   "cell_type": "code",
   "execution_count": 17,
   "metadata": {},
   "outputs": [
    {
     "data": {
      "text/html": [
       "<div>\n",
       "<style scoped>\n",
       "    .dataframe tbody tr th:only-of-type {\n",
       "        vertical-align: middle;\n",
       "    }\n",
       "\n",
       "    .dataframe tbody tr th {\n",
       "        vertical-align: top;\n",
       "    }\n",
       "\n",
       "    .dataframe thead th {\n",
       "        text-align: right;\n",
       "    }\n",
       "</style>\n",
       "<table border=\"1\" class=\"dataframe\">\n",
       "  <thead>\n",
       "    <tr style=\"text-align: right;\">\n",
       "      <th></th>\n",
       "      <th>all</th>\n",
       "      <th>python</th>\n",
       "      <th>javascript</th>\n",
       "      <th>jupyter</th>\n",
       "      <th>c_plus</th>\n",
       "      <th>typescript</th>\n",
       "      <th>java</th>\n",
       "      <th>other</th>\n",
       "    </tr>\n",
       "  </thead>\n",
       "  <tbody>\n",
       "    <tr>\n",
       "      <td>de</td>\n",
       "      <td>1529</td>\n",
       "      <td>10</td>\n",
       "      <td>1496</td>\n",
       "      <td>3</td>\n",
       "      <td>0</td>\n",
       "      <td>0</td>\n",
       "      <td>0</td>\n",
       "      <td>20</td>\n",
       "    </tr>\n",
       "    <tr>\n",
       "      <td>python</td>\n",
       "      <td>1372</td>\n",
       "      <td>923</td>\n",
       "      <td>39</td>\n",
       "      <td>279</td>\n",
       "      <td>102</td>\n",
       "      <td>5</td>\n",
       "      <td>0</td>\n",
       "      <td>24</td>\n",
       "    </tr>\n",
       "    <tr>\n",
       "      <td>data</td>\n",
       "      <td>1247</td>\n",
       "      <td>437</td>\n",
       "      <td>296</td>\n",
       "      <td>280</td>\n",
       "      <td>35</td>\n",
       "      <td>44</td>\n",
       "      <td>19</td>\n",
       "      <td>136</td>\n",
       "    </tr>\n",
       "    <tr>\n",
       "      <td>use</td>\n",
       "      <td>1231</td>\n",
       "      <td>401</td>\n",
       "      <td>329</td>\n",
       "      <td>209</td>\n",
       "      <td>101</td>\n",
       "      <td>46</td>\n",
       "      <td>22</td>\n",
       "      <td>123</td>\n",
       "    </tr>\n",
       "    <tr>\n",
       "      <td>model</td>\n",
       "      <td>1154</td>\n",
       "      <td>731</td>\n",
       "      <td>18</td>\n",
       "      <td>214</td>\n",
       "      <td>74</td>\n",
       "      <td>12</td>\n",
       "      <td>16</td>\n",
       "      <td>89</td>\n",
       "    </tr>\n",
       "    <tr>\n",
       "      <td>using</td>\n",
       "      <td>1036</td>\n",
       "      <td>339</td>\n",
       "      <td>178</td>\n",
       "      <td>240</td>\n",
       "      <td>107</td>\n",
       "      <td>63</td>\n",
       "      <td>8</td>\n",
       "      <td>101</td>\n",
       "    </tr>\n",
       "    <tr>\n",
       "      <td>1</td>\n",
       "      <td>991</td>\n",
       "      <td>308</td>\n",
       "      <td>345</td>\n",
       "      <td>90</td>\n",
       "      <td>134</td>\n",
       "      <td>20</td>\n",
       "      <td>12</td>\n",
       "      <td>82</td>\n",
       "    </tr>\n",
       "    <tr>\n",
       "      <td>code</td>\n",
       "      <td>927</td>\n",
       "      <td>348</td>\n",
       "      <td>153</td>\n",
       "      <td>140</td>\n",
       "      <td>67</td>\n",
       "      <td>42</td>\n",
       "      <td>17</td>\n",
       "      <td>160</td>\n",
       "    </tr>\n",
       "    <tr>\n",
       "      <td>install</td>\n",
       "      <td>883</td>\n",
       "      <td>365</td>\n",
       "      <td>138</td>\n",
       "      <td>190</td>\n",
       "      <td>73</td>\n",
       "      <td>37</td>\n",
       "      <td>3</td>\n",
       "      <td>77</td>\n",
       "    </tr>\n",
       "    <tr>\n",
       "      <td>network</td>\n",
       "      <td>761</td>\n",
       "      <td>261</td>\n",
       "      <td>10</td>\n",
       "      <td>205</td>\n",
       "      <td>61</td>\n",
       "      <td>0</td>\n",
       "      <td>6</td>\n",
       "      <td>218</td>\n",
       "    </tr>\n",
       "  </tbody>\n",
       "</table>\n",
       "</div>"
      ],
      "text/plain": [
       "          all  python  javascript  jupyter  c_plus  typescript  java  other\n",
       "de       1529      10        1496        3       0           0     0     20\n",
       "python   1372     923          39      279     102           5     0     24\n",
       "data     1247     437         296      280      35          44    19    136\n",
       "use      1231     401         329      209     101          46    22    123\n",
       "model    1154     731          18      214      74          12    16     89\n",
       "using    1036     339         178      240     107          63     8    101\n",
       "1         991     308         345       90     134          20    12     82\n",
       "code      927     348         153      140      67          42    17    160\n",
       "install   883     365         138      190      73          37     3     77\n",
       "network   761     261          10      205      61           0     6    218"
      ]
     },
     "execution_count": 17,
     "metadata": {},
     "output_type": "execute_result"
    }
   ],
   "source": [
    "word_counts.sort_values(by='all', ascending=False).head(10)"
   ]
  },
  {
   "cell_type": "markdown",
   "metadata": {},
   "source": [
    "- It looks like even repos that are predominately written in one language still reference other languages in the readme\n",
    "- For example jupyter readmes have several mentions of python. \n",
    "- Perhaps these instances are due to comparing or contrasting strategies implemented in other languages"
   ]
  },
  {
   "cell_type": "code",
   "execution_count": 18,
   "metadata": {},
   "outputs": [],
   "source": [
    "# code to regulate the size of plots for the rest of notebook\n",
    "plt.rc('figure', figsize=(13, 10))\n",
    "plt.rc('font', size=13)"
   ]
  },
  {
   "cell_type": "code",
   "execution_count": 19,
   "metadata": {},
   "outputs": [
    {
     "data": {
      "text/plain": [
       "Text(0, 0.5, 'Most Common Words')"
      ]
     },
     "execution_count": 19,
     "metadata": {},
     "output_type": "execute_result"
    },
    {
     "data": {
      "image/png": "[encoded data removed]",
      "text/plain": [
       "<Figure size 936x720 with 1 Axes>"
      ]
     },
     "metadata": {
      "needs_background": "light"
     },
     "output_type": "display_data"
    }
   ],
   "source": [
    "pal = sns.color_palette(\"Set2\")\n",
    "\n",
    "\n",
    "(word_counts\n",
    " .assign(p_python=word_counts.python / word_counts['all'],\n",
    "         p_jupyter=word_counts.jupyter / word_counts['all'])\n",
    " .sort_values(by='all')\n",
    " [['p_python', 'p_jupyter']]\n",
    " .tail(10)\n",
    " .sort_values('p_jupyter')\n",
    " .plot.barh(stacked=True, colors = pal))\n",
    "\n",
    "plt.title('Proportion of Python vs Jupyter for the 10 most common words')\n",
    "plt.xlabel('Percent Prevalence')\n",
    "plt.ylabel('Most Common Words')"
   ]
  },
  {
   "cell_type": "markdown",
   "metadata": {},
   "source": [
    "- Are there any words that can uniquely identify the programing language?"
   ]
  },
  {
   "cell_type": "code",
   "execution_count": 43,
   "metadata": {},
   "outputs": [
    {
     "data": {
      "text/html": [
       "<div>\n",
       "<style scoped>\n",
       "    .dataframe tbody tr th:only-of-type {\n",
       "        vertical-align: middle;\n",
       "    }\n",
       "\n",
       "    .dataframe tbody tr th {\n",
       "        vertical-align: top;\n",
       "    }\n",
       "\n",
       "    .dataframe thead th {\n",
       "        text-align: right;\n",
       "    }\n",
       "</style>\n",
       "<table border=\"1\" class=\"dataframe\">\n",
       "  <thead>\n",
       "    <tr style=\"text-align: right;\">\n",
       "      <th></th>\n",
       "      <th>all</th>\n",
       "      <th>python</th>\n",
       "      <th>javascript</th>\n",
       "      <th>jupyter</th>\n",
       "      <th>c_plus</th>\n",
       "      <th>typescript</th>\n",
       "      <th>java</th>\n",
       "      <th>other</th>\n",
       "    </tr>\n",
       "  </thead>\n",
       "  <tbody>\n",
       "    <tr>\n",
       "      <td>evaluationjavahttpsgithubcomawangdevlintcodeblobmasterjavaexpression20evaluationjavahardbinary</td>\n",
       "      <td>1</td>\n",
       "      <td>0</td>\n",
       "      <td>0</td>\n",
       "      <td>0</td>\n",
       "      <td>0</td>\n",
       "      <td>0</td>\n",
       "      <td>1</td>\n",
       "      <td>0</td>\n",
       "    </tr>\n",
       "    <tr>\n",
       "      <td>evaluating</td>\n",
       "      <td>11</td>\n",
       "      <td>1</td>\n",
       "      <td>1</td>\n",
       "      <td>9</td>\n",
       "      <td>0</td>\n",
       "      <td>0</td>\n",
       "      <td>0</td>\n",
       "      <td>0</td>\n",
       "    </tr>\n",
       "    <tr>\n",
       "      <td>evaluatev20pyhttpsworksheetscodalaborgrestbundles0x6b567e1cf2e041ec80d7098f031c5c9econtentsblob</td>\n",
       "      <td>1</td>\n",
       "      <td>1</td>\n",
       "      <td>0</td>\n",
       "      <td>0</td>\n",
       "      <td>0</td>\n",
       "      <td>0</td>\n",
       "      <td>0</td>\n",
       "      <td>0</td>\n",
       "    </tr>\n",
       "    <tr>\n",
       "      <td>evaluatev11pyhttpsgithubcomallenaibiattflowblobmastersquadevaluatev11py</td>\n",
       "      <td>1</td>\n",
       "      <td>1</td>\n",
       "      <td>0</td>\n",
       "      <td>0</td>\n",
       "      <td>0</td>\n",
       "      <td>0</td>\n",
       "      <td>0</td>\n",
       "      <td>0</td>\n",
       "    </tr>\n",
       "    <tr>\n",
       "      <td>evaluates</td>\n",
       "      <td>3</td>\n",
       "      <td>0</td>\n",
       "      <td>3</td>\n",
       "      <td>0</td>\n",
       "      <td>0</td>\n",
       "      <td>0</td>\n",
       "      <td>0</td>\n",
       "      <td>0</td>\n",
       "    </tr>\n",
       "    <tr>\n",
       "      <td>evaluateonnewdocument</td>\n",
       "      <td>1</td>\n",
       "      <td>0</td>\n",
       "      <td>1</td>\n",
       "      <td>0</td>\n",
       "      <td>0</td>\n",
       "      <td>0</td>\n",
       "      <td>0</td>\n",
       "      <td>0</td>\n",
       "    </tr>\n",
       "    <tr>\n",
       "      <td>evaluatenotebooks03_evaluate</td>\n",
       "      <td>1</td>\n",
       "      <td>0</td>\n",
       "      <td>0</td>\n",
       "      <td>1</td>\n",
       "      <td>0</td>\n",
       "      <td>0</td>\n",
       "      <td>0</td>\n",
       "      <td>0</td>\n",
       "    </tr>\n",
       "    <tr>\n",
       "      <td>evaluatemodel</td>\n",
       "      <td>3</td>\n",
       "      <td>0</td>\n",
       "      <td>0</td>\n",
       "      <td>3</td>\n",
       "      <td>0</td>\n",
       "      <td>0</td>\n",
       "      <td>0</td>\n",
       "      <td>0</td>\n",
       "    </tr>\n",
       "    <tr>\n",
       "      <td>evening</td>\n",
       "      <td>1</td>\n",
       "      <td>1</td>\n",
       "      <td>0</td>\n",
       "      <td>0</td>\n",
       "      <td>0</td>\n",
       "      <td>0</td>\n",
       "      <td>0</td>\n",
       "      <td>0</td>\n",
       "    </tr>\n",
       "    <tr>\n",
       "      <td>zyszyshttpsgithubcomzyszys</td>\n",
       "      <td>1</td>\n",
       "      <td>0</td>\n",
       "      <td>1</td>\n",
       "      <td>0</td>\n",
       "      <td>0</td>\n",
       "      <td>0</td>\n",
       "      <td>0</td>\n",
       "      <td>0</td>\n",
       "    </tr>\n",
       "  </tbody>\n",
       "</table>\n",
       "</div>"
      ],
      "text/plain": [
       "                                                    all  python  javascript  \\\n",
       "evaluationjavahttpsgithubcomawangdevlintcodeblo...    1       0           0   \n",
       "evaluating                                           11       1           1   \n",
       "evaluatev20pyhttpsworksheetscodalaborgrestbundl...    1       1           0   \n",
       "evaluatev11pyhttpsgithubcomallenaibiattflowblob...    1       1           0   \n",
       "evaluates                                             3       0           3   \n",
       "evaluateonnewdocument                                 1       0           1   \n",
       "evaluatenotebooks03_evaluate                          1       0           0   \n",
       "evaluatemodel                                         3       0           0   \n",
       "evening                                               1       1           0   \n",
       "zyszyshttpsgithubcomzyszys                            1       0           1   \n",
       "\n",
       "                                                    jupyter  c_plus  \\\n",
       "evaluationjavahttpsgithubcomawangdevlintcodeblo...        0       0   \n",
       "evaluating                                                9       0   \n",
       "evaluatev20pyhttpsworksheetscodalaborgrestbundl...        0       0   \n",
       "evaluatev11pyhttpsgithubcomallenaibiattflowblob...        0       0   \n",
       "evaluates                                                 0       0   \n",
       "evaluateonnewdocument                                     0       0   \n",
       "evaluatenotebooks03_evaluate                              1       0   \n",
       "evaluatemodel                                             3       0   \n",
       "evening                                                   0       0   \n",
       "zyszyshttpsgithubcomzyszys                                0       0   \n",
       "\n",
       "                                                    typescript  java  other  \n",
       "evaluationjavahttpsgithubcomawangdevlintcodeblo...           0     1      0  \n",
       "evaluating                                                   0     0      0  \n",
       "evaluatev20pyhttpsworksheetscodalaborgrestbundl...           0     0      0  \n",
       "evaluatev11pyhttpsgithubcomallenaibiattflowblob...           0     0      0  \n",
       "evaluates                                                    0     0      0  \n",
       "evaluateonnewdocument                                        0     0      0  \n",
       "evaluatenotebooks03_evaluate                                 0     0      0  \n",
       "evaluatemodel                                                0     0      0  \n",
       "evening                                                      0     0      0  \n",
       "zyszyshttpsgithubcomzyszys                                   0     0      0  "
      ]
     },
     "execution_count": 43,
     "metadata": {},
     "output_type": "execute_result"
    }
   ],
   "source": [
    "pd.concat([word_counts[word_counts.python == 0].sort_values(by='python').tail(10),\n",
    "word_counts[word_counts.javascript == 0].sort_values(by='javascript').tail(10)]),\n",
    "word_counts[word_counts.jupyter == 0].sort_values(by='jupyter').tail(10),\n",
    "word_counts[word_counts.c_plus == 0].sort_values(by='c_plus').tail(10),\n",
    "word_counts[word_counts.typescript == 0].sort_values(by='typescript').tail(10),\n",
    "word_counts[word_counts.java == 0].sort_values(by='java').tail(10),\n",
    "word_counts[word_counts.other == 0].sort_values(by='other').tail(10)"
   ]
  },
  {
   "cell_type": "markdown",
   "metadata": {},
   "source": [
    "During our exploration, we learned that not all words are relevant to the majority of the readmes in our dataset. Therefore, we decided to handle this as such: \n",
    "1. We aggregated similar words together (ie, we added together the values for build, building and built; etc.).\n",
    "2. We dropped all the words where the mean importance was less than 5%.\n",
    "3. We added a 'politeness' score, adding together each of the 'polite' words like please and thank you.\n",
    "\n",
    "Then, we split and scaled this dataset, and went ahead and made our prediction dataframes."
   ]
  },
  {
   "cell_type": "code",
   "execution_count": 21,
   "metadata": {},
   "outputs": [],
   "source": [
    "# Aggregate similar words\n",
    "vectorized_df = explore.aggregate_columns(vectorized_df)\n",
    "# Split & scale data, and make predictions dataframes\n",
    "X_train_scaled, X_test_scaled, y_train, y_test, train_predictions, test_predictions = explore.get_splits(df, vectorized_df)\n",
    "# Drop all words that aren't important\n",
    "X_train_reduced, X_test_reduced = explore.prep_vectorized_df(X_train_scaled, X_test_scaled)"
   ]
  },
  {
   "cell_type": "code",
   "execution_count": 22,
   "metadata": {},
   "outputs": [
    {
     "data": {
      "text/plain": [
       "((208, 198), (90, 198))"
      ]
     },
     "execution_count": 22,
     "metadata": {},
     "output_type": "execute_result"
    }
   ],
   "source": [
    "X_train_reduced.shape, X_test_reduced.shape"
   ]
  },
  {
   "cell_type": "code",
   "execution_count": 23,
   "metadata": {},
   "outputs": [],
   "source": [
    "# adding together X_train & y_train for exploration\n",
    "X_train_reduced['y'] = y_train"
   ]
  },
  {
   "cell_type": "code",
   "execution_count": 24,
   "metadata": {},
   "outputs": [
    {
     "data": {
      "text/plain": [
       "<seaborn.axisgrid.FacetGrid at 0x1a2c81f050>"
      ]
     },
     "execution_count": 24,
     "metadata": {},
     "output_type": "execute_result"
    },
    {
     "data": {
      "image/png": "[encoded data removed]",
      "text/plain": [
       "<Figure size 576x576 with 1 Axes>"
      ]
     },
     "metadata": {
      "needs_background": "light"
     },
     "output_type": "display_data"
    }
   ],
   "source": [
    "languages = ['Python', 'JavaScript', 'Jupyter Notebook', 'other', 'C++', 'TypeScript', 'Java']\n",
    "\n",
    "sns.catplot(y='y', kind='count', data=X_train_reduced, height=8, order=languages)"
   ]
  },
  {
   "cell_type": "code",
   "execution_count": 25,
   "metadata": {},
   "outputs": [
    {
     "data": {
      "text/html": [
       "<div>\n",
       "<style scoped>\n",
       "    .dataframe tbody tr th:only-of-type {\n",
       "        vertical-align: middle;\n",
       "    }\n",
       "\n",
       "    .dataframe tbody tr th {\n",
       "        vertical-align: top;\n",
       "    }\n",
       "\n",
       "    .dataframe thead th {\n",
       "        text-align: right;\n",
       "    }\n",
       "</style>\n",
       "<table border=\"1\" class=\"dataframe\">\n",
       "  <thead>\n",
       "    <tr style=\"text-align: right;\">\n",
       "      <th></th>\n",
       "      <th>n</th>\n",
       "      <th>percent</th>\n",
       "    </tr>\n",
       "  </thead>\n",
       "  <tbody>\n",
       "    <tr>\n",
       "      <td>Python</td>\n",
       "      <td>90</td>\n",
       "      <td>0.302013</td>\n",
       "    </tr>\n",
       "    <tr>\n",
       "      <td>JavaScript</td>\n",
       "      <td>65</td>\n",
       "      <td>0.218121</td>\n",
       "    </tr>\n",
       "    <tr>\n",
       "      <td>Jupyter Notebook</td>\n",
       "      <td>47</td>\n",
       "      <td>0.157718</td>\n",
       "    </tr>\n",
       "    <tr>\n",
       "      <td>other</td>\n",
       "      <td>38</td>\n",
       "      <td>0.127517</td>\n",
       "    </tr>\n",
       "    <tr>\n",
       "      <td>C++</td>\n",
       "      <td>23</td>\n",
       "      <td>0.077181</td>\n",
       "    </tr>\n",
       "    <tr>\n",
       "      <td>TypeScript</td>\n",
       "      <td>22</td>\n",
       "      <td>0.073826</td>\n",
       "    </tr>\n",
       "    <tr>\n",
       "      <td>Java</td>\n",
       "      <td>13</td>\n",
       "      <td>0.043624</td>\n",
       "    </tr>\n",
       "  </tbody>\n",
       "</table>\n",
       "</div>"
      ],
      "text/plain": [
       "                   n   percent\n",
       "Python            90  0.302013\n",
       "JavaScript        65  0.218121\n",
       "Jupyter Notebook  47  0.157718\n",
       "other             38  0.127517\n",
       "C++               23  0.077181\n",
       "TypeScript        22  0.073826\n",
       "Java              13  0.043624"
      ]
     },
     "execution_count": 25,
     "metadata": {},
     "output_type": "execute_result"
    }
   ],
   "source": [
    "languages = pd.concat([df.gen_language.value_counts(),\n",
    "                    df.gen_language.value_counts(normalize=True)], axis=1)\n",
    "languages.columns = ['n', 'percent']\n",
    "languages"
   ]
  },
  {
   "cell_type": "markdown",
   "metadata": {},
   "source": [
    "> Our dataset is mostly Python repos, but there are a quite a few of the other languages to compare."
   ]
  },
  {
   "cell_type": "code",
   "execution_count": 26,
   "metadata": {},
   "outputs": [
    {
     "data": {
      "text/plain": [
       "<matplotlib.axes._subplots.AxesSubplot at 0x1a2c765450>"
      ]
     },
     "execution_count": 26,
     "metadata": {},
     "output_type": "execute_result"
    },
    {
     "data": {
      "image/png": "[encoded data removed]",
      "text/plain": [
       "<Figure size 936x720 with 1 Axes>"
      ]
     },
     "metadata": {
      "needs_background": "light"
     },
     "output_type": "display_data"
    }
   ],
   "source": [
    "X_train_reduced.num_words.hist()"
   ]
  },
  {
   "cell_type": "code",
   "execution_count": 27,
   "metadata": {},
   "outputs": [
    {
     "data": {
      "text/plain": [
       "<matplotlib.axes._subplots.AxesSubplot at 0x1a2c74b590>"
      ]
     },
     "execution_count": 27,
     "metadata": {},
     "output_type": "execute_result"
    },
    {
     "data": {
      "image/png": "[encoded data removed]",
      "text/plain": [
       "<Figure size 936x720 with 1 Axes>"
      ]
     },
     "metadata": {
      "needs_background": "light"
     },
     "output_type": "display_data"
    }
   ],
   "source": [
    "X_train_reduced.num_unique_words.hist()"
   ]
  },
  {
   "cell_type": "code",
   "execution_count": 28,
   "metadata": {},
   "outputs": [
    {
     "data": {
      "text/plain": [
       "<matplotlib.axes._subplots.AxesSubplot at 0x1a2c73e7d0>"
      ]
     },
     "execution_count": 28,
     "metadata": {},
     "output_type": "execute_result"
    },
    {
     "data": {
      "image/png": "[encoded data removed]",
      "text/plain": [
       "<Figure size 936x720 with 1 Axes>"
      ]
     },
     "metadata": {
      "needs_background": "light"
     },
     "output_type": "display_data"
    }
   ],
   "source": [
    "X_train_reduced.link_counts.hist()"
   ]
  },
  {
   "cell_type": "code",
   "execution_count": 29,
   "metadata": {},
   "outputs": [
    {
     "data": {
      "text/plain": [
       "<matplotlib.axes._subplots.AxesSubplot at 0x1a2c716290>"
      ]
     },
     "execution_count": 29,
     "metadata": {},
     "output_type": "execute_result"
    },
    {
     "data": {
      "image/png": "[encoded data removed]",
      "text/plain": [
       "<Figure size 936x720 with 1 Axes>"
      ]
     },
     "metadata": {
      "needs_background": "light"
     },
     "output_type": "display_data"
    }
   ],
   "source": [
    "X_train_reduced.politeness.hist()"
   ]
  },
  {
   "cell_type": "markdown",
   "metadata": {},
   "source": [
    "> Even our engineered and aggregated columns are heavily skewed to small numbers."
   ]
  },
  {
   "cell_type": "code",
   "execution_count": 30,
   "metadata": {},
   "outputs": [
    {
     "data": {
      "text/plain": [
       "<seaborn.axisgrid.FacetGrid at 0x1a2c750c10>"
      ]
     },
     "execution_count": 30,
     "metadata": {},
     "output_type": "execute_result"
    },
    {
     "data": {
      "image/png": "[encoded data removed]",
      "text/plain": [
       "<Figure size 576x576 with 1 Axes>"
      ]
     },
     "metadata": {
      "needs_background": "light"
     },
     "output_type": "display_data"
    }
   ],
   "source": [
    "sns.catplot(y=\"y\", x=\"politeness\", kind=\"swarm\", data=X_train_reduced, height=8)"
   ]
  },
  {
   "cell_type": "code",
   "execution_count": 31,
   "metadata": {},
   "outputs": [
    {
     "data": {
      "text/plain": [
       "<seaborn.axisgrid.FacetGrid at 0x1a2c70a590>"
      ]
     },
     "execution_count": 31,
     "metadata": {},
     "output_type": "execute_result"
    },
    {
     "data": {
      "image/png": "[encoded data removed]",
      "text/plain": [
       "<Figure size 576x576 with 1 Axes>"
      ]
     },
     "metadata": {
      "needs_background": "light"
     },
     "output_type": "display_data"
    }
   ],
   "source": [
    "sns.catplot(y=\"y\", x=\"num_words\", kind=\"swarm\", data=X_train_reduced, height=8)"
   ]
  },
  {
   "cell_type": "code",
   "execution_count": 32,
   "metadata": {},
   "outputs": [
    {
     "data": {
      "text/plain": [
       "<seaborn.axisgrid.FacetGrid at 0x1a2c6f1750>"
      ]
     },
     "execution_count": 32,
     "metadata": {},
     "output_type": "execute_result"
    },
    {
     "data": {
      "image/png": "[encoded data removed]",
      "text/plain": [
       "<Figure size 576x576 with 1 Axes>"
      ]
     },
     "metadata": {
      "needs_background": "light"
     },
     "output_type": "display_data"
    }
   ],
   "source": [
    "sns.catplot(y=\"y\", x=\"num_unique_words\", kind=\"swarm\", data=X_train_reduced, height=8)"
   ]
  },
  {
   "cell_type": "markdown",
   "metadata": {},
   "source": [
    "> It looks as though Jupyter Notebook repos use more words and more unique words than other repos."
   ]
  },
  {
   "cell_type": "markdown",
   "metadata": {},
   "source": [
    "#### Overall we have not yet come up with a feature that is obviously unique enough to classify each repo by language but we have successfully identified which of our features are likely to be noise and have removed them from our analysis"
   ]
  },
  {
   "cell_type": "markdown",
   "metadata": {},
   "source": [
    "## Hypothesis Testing"
   ]
  },
  {
   "cell_type": "code",
   "execution_count": 33,
   "metadata": {},
   "outputs": [],
   "source": [
    "H_0 = 'there is no difference between number of links for javascript repos and the overall average number of links.'\n",
    "H_a = 'there is a difference between number of links for javascript repos and the overall average number of links.'\n",
    "# We'll set a confidence level of 95% and an alpha of .05"
   ]
  },
  {
   "cell_type": "code",
   "execution_count": 34,
   "metadata": {},
   "outputs": [
    {
     "name": "stdout",
     "output_type": "stream",
     "text": [
      "Observed\n",
      "\n",
      "[[37  0  0]\n",
      " [ 0 14  0]\n",
      " [ 0  0 14]]\n",
      "---\n",
      "Expected\n",
      "\n",
      "[[21.06153846  7.96923077  7.96923077]\n",
      " [ 7.96923077  3.01538462  3.01538462]\n",
      " [ 7.96923077  3.01538462  3.01538462]]\n",
      "---\n",
      "\n",
      "chi^2 = 130.0000\n",
      "p     = 0.0000\n",
      "P value of 0.000 is less than alpha, so we reject the null hypothesis. there is no difference between number of links for javascript repos and the overall average number of links.\n"
     ]
    }
   ],
   "source": [
    "javascript = df[df.gen_language == 'JavaScript']\n",
    "alpha = 0.05\n",
    "\n",
    "observed = pd.crosstab(javascript.link_bins, df.link_bins)\n",
    "chi2, p, degf, expected = stats.chi2_contingency(observed)\n",
    "\n",
    "print('Observed\\n')\n",
    "print(observed.values)\n",
    "print('---\\nExpected\\n')\n",
    "print(expected)\n",
    "print('---\\n')\n",
    "print(f'chi^2 = {chi2:.4f}')\n",
    "print(f'p     = {p:.4f}')\n",
    "\n",
    "if p < alpha:\n",
    "    print(f'P value of {p:.3f} is less than alpha, so we reject the null hypothesis. {H_0}')\n",
    "else:\n",
    "    print(f'P value of {p:.3f} is greater than alpha, so we fail to reject the null hypothesis. {H_a}')"
   ]
  },
  {
   "cell_type": "markdown",
   "metadata": {},
   "source": [
    "- $H_0$ there is no difference between number of words for python repos and the overall average number of words for all repos.\n",
    "- $H_a$ there is a difference between number of words for python repos and the overall average number of words for all repos."
   ]
  },
  {
   "cell_type": "code",
   "execution_count": 35,
   "metadata": {},
   "outputs": [
    {
     "name": "stdout",
     "output_type": "stream",
     "text": [
      "t = 0.947\n",
      "p = 0.347\n",
      "P value of 0.347 is greater than alpha, so we fail to reject the null hypothesis. There is no difference between number of words for python repos and the overall average number of words for all repos.\n"
     ]
    }
   ],
   "source": [
    "python = X_train_reduced[X_train_reduced['y'] == 'Python']\n",
    "t, p = stats.ttest_1samp(python.num_words, X_train_reduced.num_words.mean())\n",
    "\n",
    "print(f't = {t:.3f}')\n",
    "print(f'p = {p:.3f}')\n",
    "\n",
    "alpha = 0.05\n",
    "H_0 = 'There is no difference between number of words for python repos and the overall average number of words for all repos.'\n",
    "H_a = 'There is a difference between number of words for python repos and the overall average number of words for all repos.'\n",
    "\n",
    "if p < alpha:\n",
    "    print(f'P value of {p:.3f} is less than alpha, so we reject the null hypothesis. {H_a}')\n",
    "else:\n",
    "    print(f'P value of {p:.3f} is greater than alpha, so we fail to reject the null hypothesis. {H_0}')\n"
   ]
  },
  {
   "cell_type": "markdown",
   "metadata": {},
   "source": [
    "- $H_0$ there is no difference between the politeness score for python repos and the overall politeness score for all repos.\n",
    "- $H_a$ there is a difference between the politeness score for python repos and the overall politeness score for all repos."
   ]
  },
  {
   "cell_type": "code",
   "execution_count": 36,
   "metadata": {},
   "outputs": [
    {
     "name": "stdout",
     "output_type": "stream",
     "text": [
      "t = -1.143\n",
      "p = 0.257\n",
      "P value of 0.257 is greater than alpha, so we fail to reject the null hypothesis. There is no difference between the politeness score for python repos and the overall politeness score for all repos.\n"
     ]
    }
   ],
   "source": [
    "python = X_train_reduced[X_train_reduced['y'] == 'Python']\n",
    "t, p = stats.ttest_1samp(python.politeness, X_train_reduced.politeness.mean())\n",
    "\n",
    "print(f't = {t:.3f}')\n",
    "print(f'p = {p:.3f}')\n",
    "\n",
    "alpha = 0.05\n",
    "H_0 = 'There is no difference between the politeness score for python repos and the overall politeness score for all repos.'\n",
    "H_a = 'There is a difference between the politeness score for python repos and the overall politeness score for all repos.'\n",
    "\n",
    "if p < alpha:\n",
    "    print(f'P value of {p:.3f} is less than alpha, so we reject the null hypothesis. {H_a}')\n",
    "else:\n",
    "    print(f'P value of {p:.3f} is greater than alpha, so we fail to reject the null hypothesis. {H_0}')"
   ]
  },
  {
   "cell_type": "markdown",
   "metadata": {},
   "source": [
    "- $H_0$ there is no difference between politeness score for JavaScript repos and the overall politeness score for all repos.\n",
    "- $H_a$ there is a difference between politeness score for JavaScript repos and the overall politeness score for all repos."
   ]
  },
  {
   "cell_type": "code",
   "execution_count": 37,
   "metadata": {},
   "outputs": [
    {
     "name": "stdout",
     "output_type": "stream",
     "text": [
      "t = 0.975\n",
      "p = 0.335\n",
      "P value of 0.335 is greater than alpha, so we fail to reject the null hypothesis. There is no difference between politeness score for JavaScript repos and the overall politeness score for all repos.\n"
     ]
    }
   ],
   "source": [
    "java = X_train_reduced[X_train_reduced['y'] == 'JavaScript']\n",
    "t, p = stats.ttest_1samp(java.politeness, X_train_reduced.politeness.mean())\n",
    "\n",
    "print(f't = {t:.3f}')\n",
    "print(f'p = {p:.3f}')\n",
    "\n",
    "alpha = 0.05\n",
    "H_0 = 'There is no difference between politeness score for JavaScript repos and the overall politeness score for all repos.'\n",
    "H_a = 'There is a difference between politeness score for JavaScript repos and the overall politeness score for all repos.'\n",
    "\n",
    "if p < alpha:\n",
    "    print(f'P value of {p:.3f} is less than alpha, so we reject the null hypothesis. {H_a}')\n",
    "else:\n",
    "    print(f'P value of {p:.3f} is greater than alpha, so we fail to reject the null hypothesis. {H_0}')"
   ]
  },
  {
   "cell_type": "markdown",
   "metadata": {},
   "source": [
    "- $H_0$ there is no difference between number of words for Jupyter Notebook repos and the overall average number of words for all repos.\n",
    "- $H_a$ there is a difference between number of words for Jupyter Notebook repos and the overall average number of words for all repos."
   ]
  },
  {
   "cell_type": "code",
   "execution_count": 38,
   "metadata": {},
   "outputs": [
    {
     "name": "stdout",
     "output_type": "stream",
     "text": [
      "t = -2.245\n",
      "p = 0.032\n",
      "P value of 0.032 is less than alpha, so we reject the null hypothesis. There is a difference between number of words for Jupyter Notebook repos and the overall average number of words for all repos.\n"
     ]
    }
   ],
   "source": [
    "jupyter = X_train_reduced[X_train_reduced['y'] == 'Jupyter Notebook']\n",
    "t, p = stats.ttest_1samp(jupyter.num_words, X_train_reduced.num_words.mean())\n",
    "\n",
    "print(f't = {t:.3f}')\n",
    "print(f'p = {p:.3f}')\n",
    "\n",
    "alpha = 0.05\n",
    "H_0 = 'There is no difference between number of words for Jupyter Notebook repos and the overall average number of words for all repos.'\n",
    "H_a = 'There is a difference between number of words for Jupyter Notebook repos and the overall average number of words for all repos.'\n",
    "\n",
    "if p < alpha:\n",
    "    print(f'P value of {p:.3f} is less than alpha, so we reject the null hypothesis. {H_a}')\n",
    "else:\n",
    "    print(f'P value of {p:.3f} is greater than alpha, so we fail to reject the null hypothesis. {H_0}')"
   ]
  },
  {
   "cell_type": "markdown",
   "metadata": {},
   "source": [
    "> AHA! Finally we found something that is significant!"
   ]
  },
  {
   "cell_type": "markdown",
   "metadata": {},
   "source": [
    "# Modeling"
   ]
  },
  {
   "cell_type": "code",
   "execution_count": 39,
   "metadata": {},
   "outputs": [],
   "source": [
    "# Drop the y column from X_train_reduced for modeling\n",
    "X_train_reduced = X_train_reduced.drop(columns='y')"
   ]
  },
  {
   "cell_type": "markdown",
   "metadata": {},
   "source": [
    "### We created and evaluated multiple models:\n",
    "------------------------------------------------------------------------------------------------------------------\n",
    "A baseline was established which predicts the most common programing language present in our corpus: __Python__.\n",
    "- Logistic Regression:\n",
    "> - No hyperperameters were adjusted on this model \n",
    "- Random Forest\n",
    "> - Minimul leaf samples was set to 3\n",
    "> - Max depth was set to 10\n",
    "- K Nearest Neighbors\n",
    " > - Neighbors are set to 2\n",
    " > - Weights are uniform"
   ]
  },
  {
   "cell_type": "code",
   "execution_count": 40,
   "metadata": {
    "scrolled": false
   },
   "outputs": [
    {
     "name": "stdout",
     "output_type": "stream",
     "text": [
      "Evaluation Metrics for Logistic Regression Model\n",
      "\n",
      "\n",
      "Accuracy: 91.83%\n",
      "----------------------------------------------------------------------------------------------\n",
      "Confusion Matrix\n",
      "actual            C++  Java  JavaScript  Jupyter Notebook  Python  TypeScript  \\\n",
      "lr_predictions                                                                  \n",
      "C++                14     0           0                 0       0           0   \n",
      "Java                0     5           0                 0       0           0   \n",
      "JavaScript          2     0          45                 1       1           1   \n",
      "Jupyter Notebook    0     1           0                27       0           0   \n",
      "Python              0     3           0                 4      62           0   \n",
      "TypeScript          0     0           0                 0       0          14   \n",
      "other               0     0           0                 1       0           0   \n",
      "\n",
      "actual            other  \n",
      "lr_predictions           \n",
      "C++                   0  \n",
      "Java                  0  \n",
      "JavaScript            2  \n",
      "Jupyter Notebook      0  \n",
      "Python                1  \n",
      "TypeScript            0  \n",
      "other                24  \n",
      "----------------------------------------------------------------------------------------------\n",
      "                  precision    recall  f1-score   support\n",
      "\n",
      "             C++       1.00      0.88      0.93        16\n",
      "            Java       1.00      0.56      0.71         9\n",
      "      JavaScript       0.87      1.00      0.93        45\n",
      "Jupyter Notebook       0.96      0.82      0.89        33\n",
      "          Python       0.89      0.98      0.93        63\n",
      "      TypeScript       1.00      0.93      0.97        15\n",
      "           other       0.96      0.89      0.92        27\n",
      "\n",
      "        accuracy                           0.92       208\n",
      "       macro avg       0.95      0.87      0.90       208\n",
      "    weighted avg       0.93      0.92      0.92       208\n",
      "\n",
      "\n",
      "\n",
      "\n",
      "\n",
      "\n",
      "Evaluation Metrics for Random Forest Model\n",
      "\n",
      "\n",
      "Accuracy: 95.19%\n",
      "----------------------------------------------------------------------------------------------\n",
      "Confusion Matrix\n",
      "actual            C++  Java  JavaScript  Jupyter Notebook  Python  TypeScript  \\\n",
      "rf_predictions                                                                  \n",
      "C++                16     0           0                 0       0           0   \n",
      "Java                0     8           0                 1       0           0   \n",
      "JavaScript          0     0          44                 1       0           1   \n",
      "Jupyter Notebook    0     0           0                31       0           0   \n",
      "Python              0     1           1                 0      63           2   \n",
      "TypeScript          0     0           0                 0       0          12   \n",
      "other               0     0           0                 0       0           0   \n",
      "\n",
      "actual            other  \n",
      "rf_predictions           \n",
      "C++                   0  \n",
      "Java                  1  \n",
      "JavaScript            1  \n",
      "Jupyter Notebook      0  \n",
      "Python                1  \n",
      "TypeScript            0  \n",
      "other                24  \n",
      "----------------------------------------------------------------------------------------------\n",
      "                  precision    recall  f1-score   support\n",
      "\n",
      "             C++       1.00      1.00      1.00        16\n",
      "            Java       0.80      0.89      0.84         9\n",
      "      JavaScript       0.94      0.98      0.96        45\n",
      "Jupyter Notebook       1.00      0.94      0.97        33\n",
      "          Python       0.93      1.00      0.96        63\n",
      "      TypeScript       1.00      0.80      0.89        15\n",
      "           other       1.00      0.89      0.94        27\n",
      "\n",
      "        accuracy                           0.95       208\n",
      "       macro avg       0.95      0.93      0.94       208\n",
      "    weighted avg       0.96      0.95      0.95       208\n",
      "\n",
      "\n",
      "\n",
      "\n",
      "\n",
      "\n",
      "Evaluation Metrics for K Nearest Nerighbors Model\n",
      "\n",
      "\n",
      "Accuracy: 63.46%\n",
      "----------------------------------------------------------------------------------------------\n",
      "Confusion Matrix\n",
      "actual            C++  Java  JavaScript  Jupyter Notebook  Python  TypeScript  \\\n",
      "knn_predictions                                                                 \n",
      "C++                16     0           4                 0       2           1   \n",
      "Java                0     9           2                 1       6           0   \n",
      "JavaScript          0     0          39                 2      17           5   \n",
      "Jupyter Notebook    0     0           0                30       8           0   \n",
      "Python              0     0           0                 0      30           2   \n",
      "TypeScript          0     0           0                 0       0           7   \n",
      "other               0     0           0                 0       0           0   \n",
      "\n",
      "actual            other  \n",
      "knn_predictions          \n",
      "C++                   1  \n",
      "Java                  4  \n",
      "JavaScript            9  \n",
      "Jupyter Notebook      1  \n",
      "Python               10  \n",
      "TypeScript            1  \n",
      "other                 1  \n",
      "----------------------------------------------------------------------------------------------\n",
      "                  precision    recall  f1-score   support\n",
      "\n",
      "             C++       0.67      1.00      0.80        16\n",
      "            Java       0.41      1.00      0.58         9\n",
      "      JavaScript       0.54      0.87      0.67        45\n",
      "Jupyter Notebook       0.77      0.91      0.83        33\n",
      "          Python       0.71      0.48      0.57        63\n",
      "      TypeScript       0.88      0.47      0.61        15\n",
      "           other       1.00      0.04      0.07        27\n",
      "\n",
      "        accuracy                           0.63       208\n",
      "       macro avg       0.71      0.68      0.59       208\n",
      "    weighted avg       0.72      0.63      0.59       208\n",
      "\n"
     ]
    }
   ],
   "source": [
    "train_predictions, test_predictions = modeling.make_predictions_df(X_train_reduced, X_test_reduced, y_train, train_predictions, test_predictions)\n",
    "modeling.train_evaluation(train_predictions)"
   ]
  },
  {
   "cell_type": "markdown",
   "metadata": {},
   "source": [
    "- Based on the accuracy metric, it looks like the __Random Forest Model__ is our best performer. \n",
    "- Below is a peak at the train_predictions dataframe which contains the predictions of each model"
   ]
  },
  {
   "cell_type": "code",
   "execution_count": 44,
   "metadata": {},
   "outputs": [
    {
     "data": {
      "text/html": [
       "<div>\n",
       "<style scoped>\n",
       "    .dataframe tbody tr th:only-of-type {\n",
       "        vertical-align: middle;\n",
       "    }\n",
       "\n",
       "    .dataframe tbody tr th {\n",
       "        vertical-align: top;\n",
       "    }\n",
       "\n",
       "    .dataframe thead th {\n",
       "        text-align: right;\n",
       "    }\n",
       "</style>\n",
       "<table border=\"1\" class=\"dataframe\">\n",
       "  <thead>\n",
       "    <tr style=\"text-align: right;\">\n",
       "      <th></th>\n",
       "      <th>actual</th>\n",
       "      <th>baseline</th>\n",
       "      <th>lr_predictions</th>\n",
       "      <th>rf_predictions</th>\n",
       "      <th>knn_predictions</th>\n",
       "    </tr>\n",
       "  </thead>\n",
       "  <tbody>\n",
       "    <tr>\n",
       "      <td>279</td>\n",
       "      <td>JavaScript</td>\n",
       "      <td>Python</td>\n",
       "      <td>JavaScript</td>\n",
       "      <td>JavaScript</td>\n",
       "      <td>JavaScript</td>\n",
       "    </tr>\n",
       "    <tr>\n",
       "      <td>156</td>\n",
       "      <td>Jupyter Notebook</td>\n",
       "      <td>Python</td>\n",
       "      <td>Jupyter Notebook</td>\n",
       "      <td>Jupyter Notebook</td>\n",
       "      <td>Jupyter Notebook</td>\n",
       "    </tr>\n",
       "    <tr>\n",
       "      <td>31</td>\n",
       "      <td>Python</td>\n",
       "      <td>Python</td>\n",
       "      <td>Python</td>\n",
       "      <td>Python</td>\n",
       "      <td>JavaScript</td>\n",
       "    </tr>\n",
       "    <tr>\n",
       "      <td>125</td>\n",
       "      <td>JavaScript</td>\n",
       "      <td>Python</td>\n",
       "      <td>JavaScript</td>\n",
       "      <td>JavaScript</td>\n",
       "      <td>JavaScript</td>\n",
       "    </tr>\n",
       "    <tr>\n",
       "      <td>110</td>\n",
       "      <td>other</td>\n",
       "      <td>Python</td>\n",
       "      <td>other</td>\n",
       "      <td>other</td>\n",
       "      <td>Java</td>\n",
       "    </tr>\n",
       "    <tr>\n",
       "      <td>...</td>\n",
       "      <td>...</td>\n",
       "      <td>...</td>\n",
       "      <td>...</td>\n",
       "      <td>...</td>\n",
       "      <td>...</td>\n",
       "    </tr>\n",
       "    <tr>\n",
       "      <td>18</td>\n",
       "      <td>JavaScript</td>\n",
       "      <td>Python</td>\n",
       "      <td>JavaScript</td>\n",
       "      <td>JavaScript</td>\n",
       "      <td>JavaScript</td>\n",
       "    </tr>\n",
       "    <tr>\n",
       "      <td>213</td>\n",
       "      <td>Jupyter Notebook</td>\n",
       "      <td>Python</td>\n",
       "      <td>Python</td>\n",
       "      <td>Java</td>\n",
       "      <td>Jupyter Notebook</td>\n",
       "    </tr>\n",
       "    <tr>\n",
       "      <td>39</td>\n",
       "      <td>Python</td>\n",
       "      <td>Python</td>\n",
       "      <td>Python</td>\n",
       "      <td>Python</td>\n",
       "      <td>Python</td>\n",
       "    </tr>\n",
       "    <tr>\n",
       "      <td>106</td>\n",
       "      <td>Jupyter Notebook</td>\n",
       "      <td>Python</td>\n",
       "      <td>Jupyter Notebook</td>\n",
       "      <td>Jupyter Notebook</td>\n",
       "      <td>Jupyter Notebook</td>\n",
       "    </tr>\n",
       "    <tr>\n",
       "      <td>175</td>\n",
       "      <td>Python</td>\n",
       "      <td>Python</td>\n",
       "      <td>Python</td>\n",
       "      <td>Python</td>\n",
       "      <td>Python</td>\n",
       "    </tr>\n",
       "  </tbody>\n",
       "</table>\n",
       "<p>208 rows × 5 columns</p>\n",
       "</div>"
      ],
      "text/plain": [
       "               actual baseline    lr_predictions    rf_predictions  \\\n",
       "279        JavaScript   Python        JavaScript        JavaScript   \n",
       "156  Jupyter Notebook   Python  Jupyter Notebook  Jupyter Notebook   \n",
       "31             Python   Python            Python            Python   \n",
       "125        JavaScript   Python        JavaScript        JavaScript   \n",
       "110             other   Python             other             other   \n",
       "..                ...      ...               ...               ...   \n",
       "18         JavaScript   Python        JavaScript        JavaScript   \n",
       "213  Jupyter Notebook   Python            Python              Java   \n",
       "39             Python   Python            Python            Python   \n",
       "106  Jupyter Notebook   Python  Jupyter Notebook  Jupyter Notebook   \n",
       "175            Python   Python            Python            Python   \n",
       "\n",
       "      knn_predictions  \n",
       "279        JavaScript  \n",
       "156  Jupyter Notebook  \n",
       "31         JavaScript  \n",
       "125        JavaScript  \n",
       "110              Java  \n",
       "..                ...  \n",
       "18         JavaScript  \n",
       "213  Jupyter Notebook  \n",
       "39             Python  \n",
       "106  Jupyter Notebook  \n",
       "175            Python  \n",
       "\n",
       "[208 rows x 5 columns]"
      ]
     },
     "execution_count": 44,
     "metadata": {},
     "output_type": "execute_result"
    }
   ],
   "source": [
    "train_predictions"
   ]
  },
  {
   "cell_type": "markdown",
   "metadata": {},
   "source": [
    "### Next we applied our best model on the test data and evaluated it for all the same metrics"
   ]
  },
  {
   "cell_type": "code",
   "execution_count": 41,
   "metadata": {},
   "outputs": [
    {
     "name": "stdout",
     "output_type": "stream",
     "text": [
      "Evaluation Metrics for Random Forest Model\n",
      "\n",
      "\n",
      "Accuracy: 57.78%\n",
      "----------------------------------------------------------------------------------------------\n",
      "Confusion Matrix\n",
      "actual            C++  Java  JavaScript  Jupyter Notebook  Python  TypeScript  \\\n",
      "rf_predictions                                                                  \n",
      "C++                 3     0           0                 0       0           0   \n",
      "Java                0     1           0                 0       2           0   \n",
      "JavaScript          0     1          17                 0       1           5   \n",
      "Jupyter Notebook    0     0           0                 6       0           1   \n",
      "Python              3     1           2                 8      24           1   \n",
      "other               1     1           1                 0       0           0   \n",
      "\n",
      "actual            other  \n",
      "rf_predictions           \n",
      "C++                   0  \n",
      "Java                  2  \n",
      "JavaScript            2  \n",
      "Jupyter Notebook      2  \n",
      "Python                4  \n",
      "other                 1  \n",
      "----------------------------------------------------------------------------------------------\n",
      "                  precision    recall  f1-score   support\n",
      "\n",
      "             C++       1.00      0.43      0.60         7\n",
      "            Java       0.20      0.25      0.22         4\n",
      "      JavaScript       0.65      0.85      0.74        20\n",
      "Jupyter Notebook       0.67      0.43      0.52        14\n",
      "          Python       0.56      0.89      0.69        27\n",
      "      TypeScript       0.00      0.00      0.00         7\n",
      "           other       0.25      0.09      0.13        11\n",
      "\n",
      "        accuracy                           0.58        90\n",
      "       macro avg       0.48      0.42      0.41        90\n",
      "    weighted avg       0.53      0.58      0.52        90\n",
      "\n",
      "\n",
      "\n",
      "\n",
      "\n",
      "\n",
      "Evaluation Metrics for Baseline model\n",
      "\n",
      "\n",
      "Accuracy: 30.00%\n",
      "----------------------------------------------------------------------------------------------\n",
      "Confusion Matrix\n",
      "actual    C++  Java  JavaScript  Jupyter Notebook  Python  TypeScript  other\n",
      "baseline                                                                    \n",
      "Python      7     4          20                14      27           7     11\n",
      "----------------------------------------------------------------------------------------------\n",
      "                  precision    recall  f1-score   support\n",
      "\n",
      "             C++       0.00      0.00      0.00         7\n",
      "            Java       0.00      0.00      0.00         4\n",
      "      JavaScript       0.00      0.00      0.00        20\n",
      "Jupyter Notebook       0.00      0.00      0.00        14\n",
      "          Python       0.30      1.00      0.46        27\n",
      "      TypeScript       0.00      0.00      0.00         7\n",
      "           other       0.00      0.00      0.00        11\n",
      "\n",
      "        accuracy                           0.30        90\n",
      "       macro avg       0.04      0.14      0.07        90\n",
      "    weighted avg       0.09      0.30      0.14        90\n",
      "\n",
      "\n",
      "\n",
      "\n",
      "\n",
      "\n"
     ]
    }
   ],
   "source": [
    "modeling.test_evaluation(test_predictions)"
   ]
  },
  {
   "cell_type": "markdown",
   "metadata": {},
   "source": [
    "*Our __best__ performing model on training data was the Random Forest Model with 95% accuray and it was deployed on the test data. Final model performance was 57% accuracy.*"
   ]
  },
  {
   "cell_type": "markdown",
   "metadata": {},
   "source": [
    "- Here you can see exactly what each model predicted for each repository"
   ]
  },
  {
   "cell_type": "code",
   "execution_count": 42,
   "metadata": {},
   "outputs": [
    {
     "data": {
      "text/html": [
       "<div>\n",
       "<style scoped>\n",
       "    .dataframe tbody tr th:only-of-type {\n",
       "        vertical-align: middle;\n",
       "    }\n",
       "\n",
       "    .dataframe tbody tr th {\n",
       "        vertical-align: top;\n",
       "    }\n",
       "\n",
       "    .dataframe thead th {\n",
       "        text-align: right;\n",
       "    }\n",
       "</style>\n",
       "<table border=\"1\" class=\"dataframe\">\n",
       "  <thead>\n",
       "    <tr style=\"text-align: right;\">\n",
       "      <th></th>\n",
       "      <th>actual</th>\n",
       "      <th>baseline</th>\n",
       "      <th>lr_predictions</th>\n",
       "      <th>rf_predictions</th>\n",
       "      <th>knn_predictions</th>\n",
       "    </tr>\n",
       "  </thead>\n",
       "  <tbody>\n",
       "    <tr>\n",
       "      <td>198</td>\n",
       "      <td>Python</td>\n",
       "      <td>Python</td>\n",
       "      <td>Python</td>\n",
       "      <td>Python</td>\n",
       "      <td>Python</td>\n",
       "    </tr>\n",
       "    <tr>\n",
       "      <td>68</td>\n",
       "      <td>Python</td>\n",
       "      <td>Python</td>\n",
       "      <td>Python</td>\n",
       "      <td>Python</td>\n",
       "      <td>JavaScript</td>\n",
       "    </tr>\n",
       "    <tr>\n",
       "      <td>67</td>\n",
       "      <td>Java</td>\n",
       "      <td>Python</td>\n",
       "      <td>other</td>\n",
       "      <td>other</td>\n",
       "      <td>JavaScript</td>\n",
       "    </tr>\n",
       "    <tr>\n",
       "      <td>19</td>\n",
       "      <td>other</td>\n",
       "      <td>Python</td>\n",
       "      <td>Python</td>\n",
       "      <td>Python</td>\n",
       "      <td>JavaScript</td>\n",
       "    </tr>\n",
       "    <tr>\n",
       "      <td>145</td>\n",
       "      <td>Jupyter Notebook</td>\n",
       "      <td>Python</td>\n",
       "      <td>Python</td>\n",
       "      <td>Python</td>\n",
       "      <td>Python</td>\n",
       "    </tr>\n",
       "    <tr>\n",
       "      <td>...</td>\n",
       "      <td>...</td>\n",
       "      <td>...</td>\n",
       "      <td>...</td>\n",
       "      <td>...</td>\n",
       "      <td>...</td>\n",
       "    </tr>\n",
       "    <tr>\n",
       "      <td>168</td>\n",
       "      <td>Python</td>\n",
       "      <td>Python</td>\n",
       "      <td>Python</td>\n",
       "      <td>Python</td>\n",
       "      <td>C++</td>\n",
       "    </tr>\n",
       "    <tr>\n",
       "      <td>124</td>\n",
       "      <td>JavaScript</td>\n",
       "      <td>Python</td>\n",
       "      <td>JavaScript</td>\n",
       "      <td>JavaScript</td>\n",
       "      <td>JavaScript</td>\n",
       "    </tr>\n",
       "    <tr>\n",
       "      <td>118</td>\n",
       "      <td>JavaScript</td>\n",
       "      <td>Python</td>\n",
       "      <td>JavaScript</td>\n",
       "      <td>JavaScript</td>\n",
       "      <td>Jupyter Notebook</td>\n",
       "    </tr>\n",
       "    <tr>\n",
       "      <td>139</td>\n",
       "      <td>Jupyter Notebook</td>\n",
       "      <td>Python</td>\n",
       "      <td>Jupyter Notebook</td>\n",
       "      <td>Jupyter Notebook</td>\n",
       "      <td>C++</td>\n",
       "    </tr>\n",
       "    <tr>\n",
       "      <td>208</td>\n",
       "      <td>Jupyter Notebook</td>\n",
       "      <td>Python</td>\n",
       "      <td>Python</td>\n",
       "      <td>Python</td>\n",
       "      <td>Jupyter Notebook</td>\n",
       "    </tr>\n",
       "  </tbody>\n",
       "</table>\n",
       "<p>90 rows × 5 columns</p>\n",
       "</div>"
      ],
      "text/plain": [
       "               actual baseline    lr_predictions    rf_predictions  \\\n",
       "198            Python   Python            Python            Python   \n",
       "68             Python   Python            Python            Python   \n",
       "67               Java   Python             other             other   \n",
       "19              other   Python            Python            Python   \n",
       "145  Jupyter Notebook   Python            Python            Python   \n",
       "..                ...      ...               ...               ...   \n",
       "168            Python   Python            Python            Python   \n",
       "124        JavaScript   Python        JavaScript        JavaScript   \n",
       "118        JavaScript   Python        JavaScript        JavaScript   \n",
       "139  Jupyter Notebook   Python  Jupyter Notebook  Jupyter Notebook   \n",
       "208  Jupyter Notebook   Python            Python            Python   \n",
       "\n",
       "      knn_predictions  \n",
       "198            Python  \n",
       "68         JavaScript  \n",
       "67         JavaScript  \n",
       "19         JavaScript  \n",
       "145            Python  \n",
       "..                ...  \n",
       "168               C++  \n",
       "124        JavaScript  \n",
       "118  Jupyter Notebook  \n",
       "139               C++  \n",
       "208  Jupyter Notebook  \n",
       "\n",
       "[90 rows x 5 columns]"
      ]
     },
     "execution_count": 42,
     "metadata": {},
     "output_type": "execute_result"
    }
   ],
   "source": [
    "test_predictions"
   ]
  },
  {
   "cell_type": "markdown",
   "metadata": {},
   "source": [
    "# Conclusions"
   ]
  },
  {
   "cell_type": "markdown",
   "metadata": {},
   "source": [
    "### Ultimately our best model improved predictions by 27% over the baseline model\n",
    "- Each model we created struggled to predict programming languages that appeared less frequently in our corpus of documents. \n",
    "- Natural language processesing appears to be especially prone to overfitting though with some recursive fine-tuning, it can be used to correctly classify documents according to thier programming language."
   ]
  },
  {
   "cell_type": "markdown",
   "metadata": {},
   "source": [
    "## Moving forward:\n",
    "- Gather a larger corpus\n",
    "- Consider handling outliers\n",
    "- Remove more common words that add no meaning to the text to further reduce noise"
   ]
  },
  {
   "cell_type": "code",
   "execution_count": null,
   "metadata": {},
   "outputs": [],
   "source": []
  }
 ],
 "metadata": {
  "kernelspec": {
   "display_name": "Python 3",
   "language": "python",
   "name": "python3"
  },
  "language_info": {
   "codemirror_mode": {
    "name": "ipython",
    "version": 3
   },
   "file_extension": ".py",
   "mimetype": "text/x-python",
   "name": "python",
   "nbconvert_exporter": "python",
   "pygments_lexer": "ipython3",
   "version": "3.7.4"
  }
 },
 "nbformat": 4,
 "nbformat_minor": 4
}
